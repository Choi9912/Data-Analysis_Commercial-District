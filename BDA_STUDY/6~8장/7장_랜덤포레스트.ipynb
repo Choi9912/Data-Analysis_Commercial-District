{
 "cells": [
  {
   "cell_type": "markdown",
   "id": "8c501559",
   "metadata": {},
   "source": [
    "### 해당모델 관련한 내용"
   ]
  },
  {
   "cell_type": "markdown",
   "id": "f56b0832",
   "metadata": {},
   "source": [
    "#### 랜덤 포레스트  \n",
    "    \n",
    "- 결정 트리에는 과적합에 취약하다는 단점이 있는데, 트리의 깊이가 깊어짐에 따라 학습 데이터에만 적합한 과도하게 불규칙한 패턴을 학습하는 경향이 커지기 때문이다.  \n",
    "- 결정 트리의 분산을 줄이고자 랜덤 포레스트에서는 학습 데이터를 다르게 샘플링한 후 각각의 서브데이터에서 깊이가 깊은 결정 트리를 학습하고 이 결과를 최종적으로 종합하여 출력값을 계산한다.  \n",
    "\n",
    "      \n",
    "- 즉, 부트스트래핑 기반 샘플링을 활용한 의사결정나무 생성 이후 배깅 기반 나무들을 모아 앙상블 학습하여 숲을 형성하게 되면 이를 랜덤포레스트라고 일컫는다.  \n",
    "    - 부트스트래핑: 단순 복원 임의추출법(랜덤샘플링)으로 크기가 동일한 여러 개의 표본자료를 생성한다.  \n",
    "    - 배깅: 여러 부트스트랩 자료를 생성하여 학습하는 모델링으로 분류기를 생성한 후 그 결과를 앙상블 하는 방법이다.  \n",
    "               + 추출한 각 샘플별 모델링 학습 뒤 결과들을 집계, 최종 결과를 만들어 내는 방식으로 범주형 데이터인 경우 다수결 투표방식,  \n",
    "            연속형 데이터인 경우 평균으로 결과를 집계  \n",
    "    - 앙상블 학습: 여러 모델을 학습시켜 결합하는 방식의 학습방법으로 일반화 성능을 향상시켜 과적합을 해결할 수 있음.  "
   ]
  },
  {
   "cell_type": "markdown",
   "id": "5be83e73",
   "metadata": {},
   "source": [
    "### 랜덤포레스트 모델 파라미터"
   ]
  },
  {
   "cell_type": "markdown",
   "id": "b2e1f1c1",
   "metadata": {},
   "source": [
    "- sklearn.ensemble.RandomForestClassifier 클래스는 랜덤 포레스트 분류 모델을 구현한다.\n",
    "\n",
    "<하이퍼파라미터>\n",
    "- n_estimators (default: 100) -> 트리 개수\n",
    "- bootstrap (default: True) -> 부트스트랩 샘플 사용 여부  \n",
    "  - True 개별 트리를 학습할 때 부트스트랩 샘플을 사용\n",
    "  - False 개별 트리를 학습할 때 부트스트랩 샘플 대신 항상 전체 데이터셋 사용. 이때도 max_features에 따라 트리별  \n",
    "    랜덤성이 발생하므로 랜덤 포레스트 모델에서의 각각의 트리는 서로 다른 구조를 가짐.  \n",
    "- ood_score (default: False) -> bootstrap=True 일 때만 유효하며, 일반화 점수를 계산할 때 OOB샘플을 사용할지 선택\n",
    "- max_samples (default: None) -> bootstrap=True 일 때만 유효하며, 각각의 베이스 학습기를 학습하기 위해 추출할 샘플 개수를 지정\n",
    "  - None: 전체 샘플 추출\n",
    "  - int: max_samples 건 추출\n",
    "  - float: n과 max_samples의 곱에 해당하는 샘플 개수를 추출\n",
    "- (회귀) criterion (defalut: 'squared_error') 분기 기준 'squared_error', 'absolute_error', 'poisson'은 DecisionTreeRegressor 클래스에서와 의미가 같다."
   ]
  },
  {
   "cell_type": "markdown",
   "id": "895b1d8e",
   "metadata": {},
   "source": [
    "### 해당모델 관련 예시코드 (당뇨진척정도-회귀)"
   ]
  },
  {
   "cell_type": "code",
   "execution_count": 1,
   "id": "4557a91b",
   "metadata": {},
   "outputs": [],
   "source": [
    "## 1. 라이브러리 및 데이터 확인\n",
    "import pandas as pd\n",
    "import numpy as np\n",
    "from sklearn.datasets import load_diabetes\n",
    "\n",
    "#diabetes 데이터셋 로드\n",
    "diabetes = load_diabetes()\n",
    "x = pd.DataFrame(diabetes.data, columns = diabetes.feature_names)\n",
    "y = pd.DataFrame(diabetes.target)\n",
    "\n",
    "from sklearn.model_selection import train_test_split\n",
    "x_train, x_test, y_train, y_test = train_test_split(x, y,\n",
    "                                                   test_size = 0.2,\n",
    "                                                   random_state = 2023)\n",
    "\n",
    "x_test = pd.DataFrame(x_test.reset_index())\n",
    "x_train = pd.DataFrame(x_train.reset_index())\n",
    "y_train = pd.DataFrame(y_train.reset_index())\n",
    "\n",
    "x_test.rename(columns={'index':'cust_id'}, inplace=True)\n",
    "x_train.rename(columns={'index':'cust_id'}, inplace=True)\n",
    "y_train.columns = ['cust_id', 'target']"
   ]
  },
  {
   "cell_type": "markdown",
   "id": "fa96596b",
   "metadata": {},
   "source": [
    "#### 당뇨병 환자의 질병 진행정도를 예측"
   ]
  },
  {
   "cell_type": "code",
   "execution_count": 2,
   "id": "bf88e48e",
   "metadata": {},
   "outputs": [
    {
     "name": "stdout",
     "output_type": "stream",
     "text": [
      ".. _diabetes_dataset:\n",
      "\n",
      "Diabetes dataset\n",
      "----------------\n",
      "\n",
      "Ten baseline variables, age, sex, body mass index, average blood\n",
      "pressure, and six blood serum measurements were obtained for each of n =\n",
      "442 diabetes patients, as well as the response of interest, a\n",
      "quantitative measure of disease progression one year after baseline.\n",
      "\n",
      "**Data Set Characteristics:**\n",
      "\n",
      "  :Number of Instances: 442\n",
      "\n",
      "  :Number of Attributes: First 10 columns are numeric predictive values\n",
      "\n",
      "  :Target: Column 11 is a quantitative measure of disease progression one year after baseline\n",
      "\n",
      "  :Attribute Information:\n",
      "      - age     age in years\n",
      "      - sex\n",
      "      - bmi     body mass index\n",
      "      - bp      average blood pressure\n",
      "      - s1      tc, total serum cholesterol\n",
      "      - s2      ldl, low-density lipoproteins\n",
      "      - s3      hdl, high-density lipoproteins\n",
      "      - s4      tch, total cholesterol / HDL\n",
      "      - s5      ltg, possibly log of serum triglycerides level\n",
      "      - s6      glu, blood sugar level\n",
      "\n",
      "Note: Each of these 10 feature variables have been mean centered and scaled by the standard deviation times the square root of `n_samples` (i.e. the sum of squares of each column totals 1).\n",
      "\n",
      "Source URL:\n",
      "https://www4.stat.ncsu.edu/~boos/var.select/diabetes.html\n",
      "\n",
      "For more information see:\n",
      "Bradley Efron, Trevor Hastie, Iain Johnstone and Robert Tibshirani (2004) \"Least Angle Regression,\" Annals of Statistics (with discussion), 407-499.\n",
      "(https://web.stanford.edu/~hastie/Papers/LARS/LeastAngle_2002.pdf)\n",
      "\n"
     ]
    }
   ],
   "source": [
    "#데이터 설명\n",
    "print(diabetes.DESCR)"
   ]
  },
  {
   "cell_type": "code",
   "execution_count": 3,
   "id": "7ca98d83",
   "metadata": {},
   "outputs": [
    {
     "name": "stdout",
     "output_type": "stream",
     "text": [
      "(353, 11)\n",
      "(89, 11)\n",
      "(353, 2)\n"
     ]
    }
   ],
   "source": [
    "## 데이터 탐색(EDA)\n",
    "\n",
    "print(x_train.shape)\n",
    "print(x_test.shape)\n",
    "print(y_train.shape)"
   ]
  },
  {
   "cell_type": "code",
   "execution_count": 4,
   "id": "1719e4b2",
   "metadata": {},
   "outputs": [
    {
     "name": "stdout",
     "output_type": "stream",
     "text": [
      "   cust_id       age       sex       bmi        bp        s1        s2  \\\n",
      "0        4  0.005383 -0.044642 -0.036385  0.021872  0.003935  0.015596   \n",
      "1      318  0.088931 -0.044642  0.006728  0.025315  0.030078  0.008707   \n",
      "2      301 -0.001882  0.050680 -0.024529  0.052858  0.027326  0.030001   \n",
      "3      189 -0.001882 -0.044642 -0.066563  0.001215 -0.002945  0.003070   \n",
      "4      288  0.070769  0.050680 -0.016984  0.021872  0.043837  0.056305   \n",
      "\n",
      "         s3        s4        s5        s6  \n",
      "0  0.008142 -0.002592 -0.031988 -0.046641  \n",
      "1  0.063367 -0.039493  0.009434  0.032059  \n",
      "2  0.030232 -0.002592 -0.021395  0.036201  \n",
      "3  0.011824 -0.002592 -0.020292 -0.025930  \n",
      "4  0.037595 -0.002592 -0.070209 -0.017646  \n",
      "   cust_id       age       sex       bmi        bp        s1        s2  \\\n",
      "0      280  0.009016  0.050680  0.018584  0.039087  0.017694  0.010586   \n",
      "1      412  0.074401 -0.044642  0.085408  0.063187  0.014942  0.013091   \n",
      "2       68  0.038076  0.050680 -0.029918 -0.040099 -0.033216 -0.024174   \n",
      "3      324  0.030811 -0.044642  0.005650  0.011544  0.078236  0.077913   \n",
      "4      101  0.016281  0.050680 -0.045007  0.063187  0.010815 -0.000374   \n",
      "\n",
      "         s3        s4        s5        s6  \n",
      "0  0.019187 -0.002592  0.016307 -0.017646  \n",
      "1  0.015505 -0.002592  0.006207  0.085907  \n",
      "2 -0.010266 -0.002592 -0.012909  0.003064  \n",
      "3 -0.043401  0.108111  0.066051  0.019633  \n",
      "4  0.063367 -0.039493 -0.030748  0.036201  \n",
      "   cust_id  target\n",
      "0        4   135.0\n",
      "1      318   109.0\n",
      "2      301    65.0\n",
      "3      189    79.0\n",
      "4      288    80.0\n"
     ]
    }
   ],
   "source": [
    "# 초기 데이터 확인\n",
    "print(x_train.head())\n",
    "print(x_test.head())\n",
    "print(y_train.head())"
   ]
  },
  {
   "cell_type": "code",
   "execution_count": 5,
   "id": "21e22588",
   "metadata": {},
   "outputs": [
    {
     "name": "stdout",
     "output_type": "stream",
     "text": [
      "<class 'pandas.core.frame.DataFrame'>\n",
      "RangeIndex: 353 entries, 0 to 352\n",
      "Data columns (total 11 columns):\n",
      " #   Column   Non-Null Count  Dtype  \n",
      "---  ------   --------------  -----  \n",
      " 0   cust_id  353 non-null    int64  \n",
      " 1   age      353 non-null    float64\n",
      " 2   sex      353 non-null    float64\n",
      " 3   bmi      353 non-null    float64\n",
      " 4   bp       353 non-null    float64\n",
      " 5   s1       353 non-null    float64\n",
      " 6   s2       353 non-null    float64\n",
      " 7   s3       353 non-null    float64\n",
      " 8   s4       353 non-null    float64\n",
      " 9   s5       353 non-null    float64\n",
      " 10  s6       353 non-null    float64\n",
      "dtypes: float64(10), int64(1)\n",
      "memory usage: 30.5 KB\n",
      "None\n",
      "<class 'pandas.core.frame.DataFrame'>\n",
      "RangeIndex: 89 entries, 0 to 88\n",
      "Data columns (total 11 columns):\n",
      " #   Column   Non-Null Count  Dtype  \n",
      "---  ------   --------------  -----  \n",
      " 0   cust_id  89 non-null     int64  \n",
      " 1   age      89 non-null     float64\n",
      " 2   sex      89 non-null     float64\n",
      " 3   bmi      89 non-null     float64\n",
      " 4   bp       89 non-null     float64\n",
      " 5   s1       89 non-null     float64\n",
      " 6   s2       89 non-null     float64\n",
      " 7   s3       89 non-null     float64\n",
      " 8   s4       89 non-null     float64\n",
      " 9   s5       89 non-null     float64\n",
      " 10  s6       89 non-null     float64\n",
      "dtypes: float64(10), int64(1)\n",
      "memory usage: 7.8 KB\n",
      "None\n",
      "<class 'pandas.core.frame.DataFrame'>\n",
      "RangeIndex: 353 entries, 0 to 352\n",
      "Data columns (total 2 columns):\n",
      " #   Column   Non-Null Count  Dtype  \n",
      "---  ------   --------------  -----  \n",
      " 0   cust_id  353 non-null    int64  \n",
      " 1   target   353 non-null    float64\n",
      "dtypes: float64(1), int64(1)\n",
      "memory usage: 5.6 KB\n",
      "None\n"
     ]
    }
   ],
   "source": [
    "#변수명과 데이터 타입이 매칭이 되는지, 결측치가 있는지 확인\n",
    "print(x_train.info())\n",
    "print(x_test.info())\n",
    "print(y_train.info())"
   ]
  },
  {
   "cell_type": "code",
   "execution_count": 6,
   "id": "122c9d83",
   "metadata": {},
   "outputs": [
    {
     "name": "stdout",
     "output_type": "stream",
     "text": [
      "          cust_id         age         sex         bmi          bp          s1  \\\n",
      "count  353.000000  353.000000  353.000000  353.000000  353.000000  353.000000   \n",
      "mean   212.634561    0.000804    0.000724    0.000640   -0.000326    0.001179   \n",
      "std    126.668903    0.047617    0.047673    0.048141    0.046585    0.047891   \n",
      "min      0.000000   -0.107226   -0.044642   -0.084886   -0.112399   -0.126781   \n",
      "25%    105.000000   -0.038207   -0.044642   -0.035307   -0.033213   -0.033216   \n",
      "50%    210.000000    0.005383   -0.044642   -0.006206   -0.005670   -0.002945   \n",
      "75%    322.000000    0.038076    0.050680    0.030440    0.032201    0.027326   \n",
      "max    441.000000    0.110727    0.050680    0.170555    0.125158    0.153914   \n",
      "\n",
      "               s2          s3          s4          s5          s6  \n",
      "count  353.000000  353.000000  353.000000  353.000000  353.000000  \n",
      "mean     0.001110   -0.000452    0.000901    0.001446    0.000589  \n",
      "std      0.048248    0.048600    0.048045    0.047160    0.048122  \n",
      "min     -0.115613   -0.102307   -0.076395   -0.126097   -0.137767  \n",
      "25%     -0.029184   -0.039719   -0.039493   -0.033246   -0.034215  \n",
      "50%     -0.001314   -0.006584   -0.002592    0.000272    0.003064  \n",
      "75%      0.031567    0.030232    0.034309    0.033654    0.032059  \n",
      "max      0.198788    0.181179    0.185234    0.133597    0.135612  \n",
      "          cust_id        age        sex        bmi         bp         s1  \\\n",
      "count   89.000000  89.000000  89.000000  89.000000  89.000000  89.000000   \n",
      "mean   251.696629  -0.003188  -0.002871  -0.002537   0.001292  -0.004676   \n",
      "std    127.901365   0.047761   0.047563   0.045665   0.051777   0.046493   \n",
      "min      9.000000  -0.099961  -0.044642  -0.090275  -0.108956  -0.091006   \n",
      "25%    148.000000  -0.034575  -0.044642  -0.030996  -0.036656  -0.037344   \n",
      "50%    280.000000  -0.001882  -0.044642  -0.009439  -0.005670  -0.009825   \n",
      "75%    366.000000   0.030811   0.050680   0.034751   0.042529   0.031454   \n",
      "max    436.000000   0.096197   0.050680   0.137143   0.132044   0.119515   \n",
      "\n",
      "              s2         s3         s4         s5         s6  \n",
      "count  89.000000  89.000000  89.000000  89.000000  89.000000  \n",
      "mean   -0.004401   0.001792  -0.003575  -0.005737  -0.002334  \n",
      "std     0.045030   0.043723   0.045980   0.049252   0.045757  \n",
      "min    -0.089935  -0.080217  -0.076395  -0.104366  -0.129483  \n",
      "25%    -0.030437  -0.028674  -0.039493  -0.038460  -0.030072  \n",
      "50%    -0.014153  -0.002903  -0.002592  -0.014960  -0.005220  \n",
      "75%     0.020607   0.022869   0.003312   0.024055   0.019633  \n",
      "max     0.130208   0.122273   0.141322   0.133597   0.135612  \n",
      "          cust_id      target\n",
      "count  353.000000  353.000000\n",
      "mean   212.634561  152.943343\n",
      "std    126.668903   75.324692\n",
      "min      0.000000   37.000000\n",
      "25%    105.000000   90.000000\n",
      "50%    210.000000  141.000000\n",
      "75%    322.000000  208.000000\n",
      "max    441.000000  346.000000\n"
     ]
    }
   ],
   "source": [
    "# x_train 과 x_test 데이터의 기초통계량 비교\n",
    "\n",
    "print(x_train.describe()) \n",
    "print(x_test.describe())\n",
    "print(y_train.describe())"
   ]
  },
  {
   "cell_type": "code",
   "execution_count": 7,
   "id": "2077c97a",
   "metadata": {},
   "outputs": [
    {
     "name": "stdout",
     "output_type": "stream",
     "text": [
      "   cust_id  target\n",
      "0        4   135.0\n",
      "1      318   109.0\n",
      "2      301    65.0\n",
      "3      189    79.0\n",
      "4      288    80.0\n"
     ]
    }
   ],
   "source": [
    "# y데이터도 구체적으로 살펴보기\n",
    "print(y_train.head())"
   ]
  },
  {
   "cell_type": "code",
   "execution_count": 8,
   "id": "7b08d2fc",
   "metadata": {},
   "outputs": [
    {
     "name": "stdout",
     "output_type": "stream",
     "text": [
      "         count        mean         std   min    25%    50%    75%    max\n",
      "cust_id  353.0  212.634561  126.668903   0.0  105.0  210.0  322.0  441.0\n",
      "target   353.0  152.943343   75.324692  37.0   90.0  141.0  208.0  346.0\n"
     ]
    }
   ],
   "source": [
    "# y데이터도 구체적으로 살펴보기\n",
    "print(y_train.describe().T)"
   ]
  },
  {
   "cell_type": "code",
   "execution_count": 9,
   "id": "1c9fc1a9",
   "metadata": {},
   "outputs": [
    {
     "name": "stdout",
     "output_type": "stream",
     "text": [
      "cust_id    0\n",
      "age        0\n",
      "sex        0\n",
      "bmi        0\n",
      "bp         0\n",
      "s1         0\n",
      "s2         0\n",
      "s3         0\n",
      "s4         0\n",
      "s5         0\n",
      "s6         0\n",
      "dtype: int64\n",
      "cust_id    0\n",
      "age        0\n",
      "sex        0\n",
      "bmi        0\n",
      "bp         0\n",
      "s1         0\n",
      "s2         0\n",
      "s3         0\n",
      "s4         0\n",
      "s5         0\n",
      "s6         0\n",
      "dtype: int64\n",
      "cust_id    0\n",
      "target     0\n",
      "dtype: int64\n"
     ]
    }
   ],
   "source": [
    "## 데이터 전처리 및 분리\n",
    "## 1) 결측치 2) 이상치 3) 변수처리\n",
    "\n",
    "#결측치 확인\n",
    "print(x_train.isnull().sum())\n",
    "print(x_test.isnull().sum())\n",
    "print(y_train.isnull().sum())\n",
    "\n",
    "\n",
    "#결측치 제거\n",
    "#df = df.dropna()\n",
    "#print(df)\n",
    "\n",
    "#참고사항\n",
    "#print(df.dropna().shape) #행 기준으로 삭제\n",
    "\n",
    "#결측치 대체(평균값, 중앙값, 최빈값)\n",
    "#연속형 변수: 중앙값, 평균값\n",
    "# -df['변수명'].median()\n",
    "# -df['변수명'].mean()\n",
    "# 범주형 변수 : 최빈값\n",
    "\n",
    "#df['변수명'] = df['변수명'].fillna(대체할 값)"
   ]
  },
  {
   "cell_type": "code",
   "execution_count": 10,
   "id": "0530a417",
   "metadata": {},
   "outputs": [],
   "source": [
    "#이상치 대체\n",
    "#(참고) df['변수명'] = np.where(df['변수명']>=5, 대체할 값, df['변수명'])\n",
    "\n",
    "#변수 처리\n",
    "\n",
    "#불필요한 변수 제거\n",
    "#df = df.drop(columns = ['변수1', '변수2'])\n",
    "#df = df.drop(['변수1', '변수2'], axis = 1)\n",
    "\n",
    "#필요시 변수 추가 (파생변수 생성)\n",
    "#df['파생변수명'] = df['A'] * df['B'] 파생변수 생성 수식\n",
    "\n",
    "#원핫인코딩(가변수 처리)\n",
    "#x_train = pd.get_dummies(x_train)\n",
    "#x_test = pd.get_dummies(x_test)\n",
    "#print(x_train.info())\n",
    "#print(x_test.info())"
   ]
  },
  {
   "cell_type": "code",
   "execution_count": 11,
   "id": "ee24fa9a",
   "metadata": {},
   "outputs": [],
   "source": [
    "#변수 처리\n",
    "\n",
    "# 불필요한 변수(columns) 제거\n",
    "# cust_id 는 불필요한 변수이므로 제거한다.\n",
    "# 단, test 셋의 cust_id가 나중에 제출이 필요하기 때문에 별도로 저장\n",
    "\n",
    "cust_id = x_test['cust_id'].copy()\n",
    "\n",
    "#각 데이터에서 cust_id 변수 제거\n",
    "x_train = x_train.drop(columns = ['cust_id']) #df = df.drop(columns = ['변수1', '변수2'])\n",
    "x_test = x_test.drop(columns = ['cust_id'])\n"
   ]
  },
  {
   "cell_type": "code",
   "execution_count": 12,
   "id": "8190f8ac",
   "metadata": {},
   "outputs": [
    {
     "name": "stdout",
     "output_type": "stream",
     "text": [
      "(282, 10)\n",
      "(71, 10)\n",
      "(282,)\n",
      "(71,)\n"
     ]
    }
   ],
   "source": [
    "## 데이터 분리\n",
    "# 데이터를 훈련 세트와 검증용 세트로 분할 (80%훈련, 20%검증용)\n",
    "from sklearn.model_selection import train_test_split\n",
    "x_train, x_val, y_train, y_val = train_test_split(x_train, y_train['target'],\n",
    "                                                test_size = 0.2,\n",
    "                                                random_state=2023) \n",
    "#####stratify는 분류모델에서만 넣는 것, 연속형모델은 오류남\n",
    "print(x_train.shape)\n",
    "print(x_val.shape)\n",
    "print(y_train.shape)\n",
    "print(y_val.shape)"
   ]
  },
  {
   "cell_type": "code",
   "execution_count": 21,
   "id": "00a47887",
   "metadata": {},
   "outputs": [
    {
     "data": {
      "text/html": [
       "<style>#sk-container-id-2 {color: black;}#sk-container-id-2 pre{padding: 0;}#sk-container-id-2 div.sk-toggleable {background-color: white;}#sk-container-id-2 label.sk-toggleable__label {cursor: pointer;display: block;width: 100%;margin-bottom: 0;padding: 0.3em;box-sizing: border-box;text-align: center;}#sk-container-id-2 label.sk-toggleable__label-arrow:before {content: \"▸\";float: left;margin-right: 0.25em;color: #696969;}#sk-container-id-2 label.sk-toggleable__label-arrow:hover:before {color: black;}#sk-container-id-2 div.sk-estimator:hover label.sk-toggleable__label-arrow:before {color: black;}#sk-container-id-2 div.sk-toggleable__content {max-height: 0;max-width: 0;overflow: hidden;text-align: left;background-color: #f0f8ff;}#sk-container-id-2 div.sk-toggleable__content pre {margin: 0.2em;color: black;border-radius: 0.25em;background-color: #f0f8ff;}#sk-container-id-2 input.sk-toggleable__control:checked~div.sk-toggleable__content {max-height: 200px;max-width: 100%;overflow: auto;}#sk-container-id-2 input.sk-toggleable__control:checked~label.sk-toggleable__label-arrow:before {content: \"▾\";}#sk-container-id-2 div.sk-estimator input.sk-toggleable__control:checked~label.sk-toggleable__label {background-color: #d4ebff;}#sk-container-id-2 div.sk-label input.sk-toggleable__control:checked~label.sk-toggleable__label {background-color: #d4ebff;}#sk-container-id-2 input.sk-hidden--visually {border: 0;clip: rect(1px 1px 1px 1px);clip: rect(1px, 1px, 1px, 1px);height: 1px;margin: -1px;overflow: hidden;padding: 0;position: absolute;width: 1px;}#sk-container-id-2 div.sk-estimator {font-family: monospace;background-color: #f0f8ff;border: 1px dotted black;border-radius: 0.25em;box-sizing: border-box;margin-bottom: 0.5em;}#sk-container-id-2 div.sk-estimator:hover {background-color: #d4ebff;}#sk-container-id-2 div.sk-parallel-item::after {content: \"\";width: 100%;border-bottom: 1px solid gray;flex-grow: 1;}#sk-container-id-2 div.sk-label:hover label.sk-toggleable__label {background-color: #d4ebff;}#sk-container-id-2 div.sk-serial::before {content: \"\";position: absolute;border-left: 1px solid gray;box-sizing: border-box;top: 0;bottom: 0;left: 50%;z-index: 0;}#sk-container-id-2 div.sk-serial {display: flex;flex-direction: column;align-items: center;background-color: white;padding-right: 0.2em;padding-left: 0.2em;position: relative;}#sk-container-id-2 div.sk-item {position: relative;z-index: 1;}#sk-container-id-2 div.sk-parallel {display: flex;align-items: stretch;justify-content: center;background-color: white;position: relative;}#sk-container-id-2 div.sk-item::before, #sk-container-id-2 div.sk-parallel-item::before {content: \"\";position: absolute;border-left: 1px solid gray;box-sizing: border-box;top: 0;bottom: 0;left: 50%;z-index: -1;}#sk-container-id-2 div.sk-parallel-item {display: flex;flex-direction: column;z-index: 1;position: relative;background-color: white;}#sk-container-id-2 div.sk-parallel-item:first-child::after {align-self: flex-end;width: 50%;}#sk-container-id-2 div.sk-parallel-item:last-child::after {align-self: flex-start;width: 50%;}#sk-container-id-2 div.sk-parallel-item:only-child::after {width: 0;}#sk-container-id-2 div.sk-dashed-wrapped {border: 1px dashed gray;margin: 0 0.4em 0.5em 0.4em;box-sizing: border-box;padding-bottom: 0.4em;background-color: white;}#sk-container-id-2 div.sk-label label {font-family: monospace;font-weight: bold;display: inline-block;line-height: 1.2em;}#sk-container-id-2 div.sk-label-container {text-align: center;}#sk-container-id-2 div.sk-container {/* jupyter's `normalize.less` sets `[hidden] { display: none; }` but bootstrap.min.css set `[hidden] { display: none !important; }` so we also need the `!important` here to be able to override the default hidden behavior on the sphinx rendered scikit-learn.org. See: https://github.com/scikit-learn/scikit-learn/issues/21755 */display: inline-block !important;position: relative;}#sk-container-id-2 div.sk-text-repr-fallback {display: none;}</style><div id=\"sk-container-id-2\" class=\"sk-top-container\"><div class=\"sk-text-repr-fallback\"><pre>RandomForestRegressor(n_estimators=200, random_state=2023)</pre><b>In a Jupyter environment, please rerun this cell to show the HTML representation or trust the notebook. <br />On GitHub, the HTML representation is unable to render, please try loading this page with nbviewer.org.</b></div><div class=\"sk-container\" hidden><div class=\"sk-item\"><div class=\"sk-estimator sk-toggleable\"><input class=\"sk-toggleable__control sk-hidden--visually\" id=\"sk-estimator-id-2\" type=\"checkbox\" checked><label for=\"sk-estimator-id-2\" class=\"sk-toggleable__label sk-toggleable__label-arrow\">RandomForestRegressor</label><div class=\"sk-toggleable__content\"><pre>RandomForestRegressor(n_estimators=200, random_state=2023)</pre></div></div></div></div></div>"
      ],
      "text/plain": [
       "RandomForestRegressor(n_estimators=200, random_state=2023)"
      ]
     },
     "execution_count": 21,
     "metadata": {},
     "output_type": "execute_result"
    }
   ],
   "source": [
    "##모델링 및 성능평가\n",
    "from sklearn.ensemble import RandomForestRegressor\n",
    "model = RandomForestRegressor(n_estimators = 200,\n",
    "                              random_state = 2023)\n",
    "model.fit(x_train, y_train)"
   ]
  },
  {
   "cell_type": "code",
   "execution_count": 22,
   "id": "e772f779",
   "metadata": {},
   "outputs": [],
   "source": [
    "#모델을 사용하여 테스트 데이터 예측\n",
    "y_pred = model.predict(x_val)"
   ]
  },
  {
   "cell_type": "code",
   "execution_count": 23,
   "id": "2a40d1bf",
   "metadata": {},
   "outputs": [],
   "source": [
    "#모델 성능 평가 (평균 제곱 오차 및 R-squared)\n",
    "from sklearn.metrics import mean_squared_error, r2_score\n",
    "mse = mean_squared_error(y_val, y_pred) #(실제값, 예측값)\n",
    "r2 = r2_score(y_val, y_pred)            #(실제값, 예측값)"
   ]
  },
  {
   "cell_type": "code",
   "execution_count": 24,
   "id": "4ec797b3",
   "metadata": {},
   "outputs": [
    {
     "name": "stdout",
     "output_type": "stream",
     "text": [
      "3703.9832676056344\n"
     ]
    }
   ],
   "source": [
    "#MSE\n",
    "print(mse)"
   ]
  },
  {
   "cell_type": "code",
   "execution_count": 25,
   "id": "4492d6c9",
   "metadata": {},
   "outputs": [
    {
     "name": "stdout",
     "output_type": "stream",
     "text": [
      "0.2714935295517188\n"
     ]
    }
   ],
   "source": [
    "#r2 score\n",
    "print(r2)"
   ]
  },
  {
   "cell_type": "code",
   "execution_count": 26,
   "id": "9ce1b5e1",
   "metadata": {},
   "outputs": [
    {
     "name": "stdout",
     "output_type": "stream",
     "text": [
      "60.86035875350748\n"
     ]
    }
   ],
   "source": [
    "#RMSE\n",
    "rmse = mse**0.5\n",
    "print(rmse)"
   ]
  },
  {
   "cell_type": "code",
   "execution_count": null,
   "id": "7c3faee6",
   "metadata": {},
   "outputs": [],
   "source": []
  }
 ],
 "metadata": {
  "kernelspec": {
   "display_name": "Python 3 (ipykernel)",
   "language": "python",
   "name": "python3"
  },
  "language_info": {
   "codemirror_mode": {
    "name": "ipython",
    "version": 3
   },
   "file_extension": ".py",
   "mimetype": "text/x-python",
   "name": "python",
   "nbconvert_exporter": "python",
   "pygments_lexer": "ipython3",
   "version": "3.9.7"
  }
 },
 "nbformat": 4,
 "nbformat_minor": 5
}
