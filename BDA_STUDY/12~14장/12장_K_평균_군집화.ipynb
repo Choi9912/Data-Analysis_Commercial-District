{
 "cells": [
  {
   "cell_type": "markdown",
   "id": "38d243f8",
   "metadata": {},
   "source": [
    "### 해당 모델 관련한 내용\n",
    "1. 이론\n",
    "- n개의 샘플로 구성된 피처 행렬X를 중심이 K개의 군집으로 분할\n",
    "$$J(\\mu_1, \\dots, \\mu_j) = \\sum_{i=1}^{n}min_{\\mu_j \\in{C}}({\\parallel x_i - \\mu_j \\parallel ^2})$$\n",
    "- K개의 중심을 임의로 고른다.\n",
    "- 각 샘플에서 가장 가까운 중심을 해당 샘플을 포함한 군집의 중심으로 정한다.\n",
    "- 군집별 샘플 피처값의 평균을 계산하여 이를 군집의 새로운 중심으로 업데이트 한다.\n",
    "- 더는 중심이 변하지 않거나 변화가 임계값 이하일 때까지 반복한다."
   ]
  },
  {
   "cell_type": "code",
   "execution_count": 2,
   "id": "3939177d",
   "metadata": {
    "ExecuteTime": {
     "end_time": "2024-01-04T13:07:29.274921Z",
     "start_time": "2024-01-04T13:07:27.351478Z"
    }
   },
   "outputs": [
    {
     "data": {
      "text/plain": [
       "<matplotlib.collections.PathCollection at 0x13f2e9ae0>"
      ]
     },
     "execution_count": 2,
     "metadata": {},
     "output_type": "execute_result"
    },
    {
     "data": {
      "image/png": "[encoded data removed]",
      "text/plain": [
       "<Figure size 640x480 with 1 Axes>"
      ]
     },
     "metadata": {},
     "output_type": "display_data"
    }
   ],
   "source": [
    "import numpy as np\n",
    "import pandas as pd\n",
    "import matplotlib.pyplot as plt\n",
    "import seaborn as sns\n",
    "from sklearn.datasets import make_blobs\n",
    "import warnings\n",
    "%matplotlib inline\n",
    "warnings.filterwarnings(\"ignore\")\n",
    "\n",
    "X = make_blobs(n_samples=500, centers=2, random_state=1234)[0]\n",
    "plt.scatter(X[:, 0], X[:, 1], s=2)"
   ]
  },
  {
   "cell_type": "code",
   "execution_count": 4,
   "id": "e59a559c",
   "metadata": {
    "ExecuteTime": {
     "end_time": "2024-01-04T13:07:48.331328Z",
     "start_time": "2024-01-04T13:07:48.200557Z"
    },
    "scrolled": true
   },
   "outputs": [
    {
     "ename": "TypeError",
     "evalue": "scatterplot() takes from 0 to 1 positional arguments but 2 positional arguments (and 1 keyword-only argument) were given",
     "output_type": "error",
     "traceback": [
      "\u001b[0;31m---------------------------------------------------------------------------\u001b[0m",
      "\u001b[0;31mTypeError\u001b[0m                                 Traceback (most recent call last)",
      "Cell \u001b[0;32mIn[4], line 17\u001b[0m\n\u001b[1;32m     15\u001b[0m ax \u001b[38;5;241m=\u001b[39m f\u001b[38;5;241m.\u001b[39madd_subplot(\u001b[38;5;241m1\u001b[39m, \u001b[38;5;241m6\u001b[39m, it)\n\u001b[1;32m     16\u001b[0m ax\u001b[38;5;241m.\u001b[39mset_title(\u001b[38;5;124m'\u001b[39m\u001b[38;5;124mIteration: \u001b[39m\u001b[38;5;124m'\u001b[39m \u001b[38;5;241m+\u001b[39m \u001b[38;5;28mstr\u001b[39m(it))\n\u001b[0;32m---> 17\u001b[0m \u001b[43msns\u001b[49m\u001b[38;5;241;43m.\u001b[39;49m\u001b[43mscatterplot\u001b[49m\u001b[43m(\u001b[49m\u001b[43mX\u001b[49m\u001b[43m[\u001b[49m\u001b[43m:\u001b[49m\u001b[43m,\u001b[49m\u001b[43m \u001b[49m\u001b[38;5;241;43m0\u001b[39;49m\u001b[43m]\u001b[49m\u001b[43m,\u001b[49m\u001b[43m \u001b[49m\u001b[43mX\u001b[49m\u001b[43m[\u001b[49m\u001b[43m:\u001b[49m\u001b[43m,\u001b[49m\u001b[43m \u001b[49m\u001b[38;5;241;43m1\u001b[39;49m\u001b[43m]\u001b[49m\u001b[43m,\u001b[49m\u001b[43m \u001b[49m\u001b[43ms\u001b[49m\u001b[38;5;241;43m=\u001b[39;49m\u001b[38;5;241;43m10\u001b[39;49m\u001b[43m,\u001b[49m\u001b[43m \u001b[49m\u001b[43mhue\u001b[49m\u001b[38;5;241;43m=\u001b[39;49m\u001b[43mcluster\u001b[49m\u001b[43m)\u001b[49m\n\u001b[1;32m     18\u001b[0m sns\u001b[38;5;241m.\u001b[39mscatterplot(centroid_old[:, \u001b[38;5;241m0\u001b[39m], centroid_old[:, \u001b[38;5;241m1\u001b[39m], s\u001b[38;5;241m=\u001b[39m\u001b[38;5;241m50\u001b[39m, color\u001b[38;5;241m=\u001b[39m\u001b[38;5;124m'\u001b[39m\u001b[38;5;124mk\u001b[39m\u001b[38;5;124m'\u001b[39m)\n\u001b[1;32m     20\u001b[0m centroid \u001b[38;5;241m=\u001b[39m pd\u001b[38;5;241m.\u001b[39mDataFrame(X)\u001b[38;5;241m.\u001b[39mgroupby(by\u001b[38;5;241m=\u001b[39mclutser)\u001b[38;5;241m.\u001b[39mmean()\u001b[38;5;241m.\u001b[39mvalues\n",
      "\u001b[0;31mTypeError\u001b[0m: scatterplot() takes from 0 to 1 positional arguments but 2 positional arguments (and 1 keyword-only argument) were given"
     ]
    },
    {
     "data": {
      "image/png": "[encoded data removed]",
      "text/plain": [
       "<Figure size 2000x400 with 1 Axes>"
      ]
     },
     "metadata": {},
     "output_type": "display_data"
    }
   ],
   "source": [
    "np.random.seed(1234)\n",
    "cluster = np.zeros(X.shape[0])\n",
    "centroid_old = X[np.random.randint(X.shape[0], size=2), :]\n",
    "\n",
    "f = plt.figure(figsize=(20, 4))\n",
    "for it in range(1, 11):\n",
    "    for i, row in enumerate(X):\n",
    "        d = float('inf')\n",
    "        for ind, centroid in enumerate(centroid_old):\n",
    "            tmp = np.linalg.norm(centroid - row)\n",
    "            if d > tmp:\n",
    "                d = tmp\n",
    "                cluster[i] = ind\n",
    "                \n",
    "    ax = f.add_subplot(1, 6, it)\n",
    "    ax.set_title('Iteration: ' + str(it))\n",
    "    sns.scatterplot(X[:, 0], X[:, 1], s=10, hue=cluster)\n",
    "    sns.scatterplot(centroid_old[:, 0], centroid_old[:, 1], s=50, color='k')\n",
    "    \n",
    "    centroid = pd.DataFrame(X).groupby(by=clutser).mean().values\n",
    "    print(f'이터레시연: {it}, 중심: {centroid}\\n')\n",
    "    if np.allclose(centroid, centroid_old):\n",
    "        print(f'이터레이션: {it}에서 학습 종료\\n')\n",
    "    centroid_old = centroid"
   ]
  },
  {
   "cell_type": "markdown",
   "id": "540de298",
   "metadata": {},
   "source": [
    "### 해당 모델 파라미터 내용\n",
    "1. 하이퍼파라미터\n",
    "- n_clusters : 생성할 클러스터 수\n",
    "- init : 초기화 방법 선택\n",
    "    - k-means++ : 수렴 속도를 높이기 위한 초기 중심값을 설정 #default\n",
    "    - random : 임의로 초기 중심값 선택\n",
    "- n_init : 설정된 알고리즘을 반복하는 횟수.\n",
    "- max_iter : 각각의 알고리즘 반복에서 이터레이션의 상한값\n",
    "- tol : 조기 종료의 허용 오차 \n",
    "- algorithm : 학습에 사용할 알고리즘\n",
    "    - lloyd : 로이드 알고리즘 (기본적인 EM-알고리즘) #default\n",
    "    - elkan : 삼각 부등식 이용하는 엘칸 알고리즘을 적용, 메모리 소모가 크다 !\n",
    "---\n",
    "2. 실제 사용 팁\n",
    "- 거리 기반이기 때문에 피처를 스케일링 해야 좋다.\n",
    "- tol, max_iter 등 때문에 완전히 수렴하기 전에 알고리즘이 멈춘다면 중심이 각각의 클러스터의 평균과 다를 수 있으므로 조심해야 한다."
   ]
  },
  {
   "cell_type": "code",
   "execution_count": 38,
   "id": "bba0baa3",
   "metadata": {
    "ExecuteTime": {
     "end_time": "2023-12-21T04:11:00.384244Z",
     "start_time": "2023-12-21T04:11:00.379604Z"
    }
   },
   "outputs": [],
   "source": [
    "# 활용하기 \n",
    "from sklearn.cluster import KMeans\n",
    "import numpy as np\n",
    "\n",
    "X = np.array([[1, 2], [1, 4], [1, 0], [10, 2], [10, 4], [10, 0]])"
   ]
  },
  {
   "cell_type": "code",
   "execution_count": 45,
   "id": "cf819c41",
   "metadata": {
    "ExecuteTime": {
     "end_time": "2023-12-21T04:11:39.429203Z",
     "start_time": "2023-12-21T04:11:39.382252Z"
    }
   },
   "outputs": [
    {
     "name": "stdout",
     "output_type": "stream",
     "text": [
      "샘플 별 군집 번호: [1 1 1 0 0 0]\n"
     ]
    }
   ],
   "source": [
    "kmeans = KMeans(n_clusters=2, random_state=0).fit(X)\n",
    "print(f'샘플 별 군집 번호: {kmeans.labels_}')"
   ]
  },
  {
   "cell_type": "code",
   "execution_count": 49,
   "id": "80f79fb2",
   "metadata": {
    "ExecuteTime": {
     "end_time": "2023-12-21T04:33:00.170870Z",
     "start_time": "2023-12-21T04:33:00.159889Z"
    }
   },
   "outputs": [
    {
     "name": "stdout",
     "output_type": "stream",
     "text": [
      "RI: 0.6667\n",
      "ARI: 0.2424\n"
     ]
    }
   ],
   "source": [
    "# RI와 ARI 계산하기\n",
    "from sklearn import metrics\n",
    "\n",
    "labels_true = [0, 0, 0, 1, 1, 1]\n",
    "labels_pred = [0, 0, 1, 1, 2, 2]\n",
    "\n",
    "print(f'RI:{metrics.rand_score(labels_true, labels_pred): .4f}')\n",
    "print(f'ARI:{metrics.adjusted_rand_score(labels_true, labels_pred): .4f}')"
   ]
  },
  {
   "cell_type": "code",
   "execution_count": 50,
   "id": "600ec145",
   "metadata": {
    "ExecuteTime": {
     "end_time": "2023-12-21T04:34:07.846719Z",
     "start_time": "2023-12-21T04:34:07.833557Z"
    }
   },
   "outputs": [
    {
     "name": "stdout",
     "output_type": "stream",
     "text": [
      "퍼뮤테이션 후 RI: 0.6667\n",
      "퍼뮤테이션 후 ARI: 0.2424\n"
     ]
    }
   ],
   "source": [
    "labels_pred = [1, 1, 0, 0, 3, 3]\n",
    "print(f'퍼뮤테이션 후 RI:{metrics.rand_score(labels_true, labels_pred): .4f}')\n",
    "print(f'퍼뮤테이션 후 ARI:{metrics.adjusted_rand_score(labels_true, labels_pred): .4f}')"
   ]
  },
  {
   "cell_type": "code",
   "execution_count": 51,
   "id": "b98f6bae",
   "metadata": {
    "ExecuteTime": {
     "end_time": "2023-12-21T04:35:04.775118Z",
     "start_time": "2023-12-21T04:35:04.765602Z"
    }
   },
   "outputs": [
    {
     "name": "stdout",
     "output_type": "stream",
     "text": [
      "대칭된 입력값에 대한 RI: 0.6667\n",
      "대칭된 입력값에 대한 ARI: 0.2424\n"
     ]
    }
   ],
   "source": [
    "print(f'대칭된 입력값에 대한 RI:{metrics.rand_score(labels_pred, labels_true): .4f}')\n",
    "print(f'대칭된 입력값에 대한 ARI:{metrics.adjusted_rand_score(labels_pred, labels_true): .4f}')"
   ]
  },
  {
   "cell_type": "code",
   "execution_count": 56,
   "id": "7601a4ef",
   "metadata": {
    "ExecuteTime": {
     "end_time": "2023-12-21T04:35:58.021219Z",
     "start_time": "2023-12-21T04:35:58.010799Z"
    }
   },
   "outputs": [
    {
     "name": "stdout",
     "output_type": "stream",
     "text": [
      "동일한 입력값 RI: 1.0000\n",
      "동일한 입력값 ARI: 1.0000\n"
     ]
    }
   ],
   "source": [
    "labels_pred = labels_true.copy()\n",
    "\n",
    "print(f'동일한 입력값 RI:{metrics.rand_score(labels_true, labels_pred): .4f}')\n",
    "print(f'동일한 입력값 ARI:{metrics.adjusted_rand_score(labels_true, labels_pred): .4f}')"
   ]
  },
  {
   "cell_type": "code",
   "execution_count": 63,
   "id": "cffdb606",
   "metadata": {
    "ExecuteTime": {
     "end_time": "2023-12-21T04:42:28.122077Z",
     "start_time": "2023-12-21T04:42:28.074517Z"
    }
   },
   "outputs": [
    {
     "name": "stdout",
     "output_type": "stream",
     "text": [
      "X의 군집화 결과의 실루엣 계수:  0.5528\n"
     ]
    }
   ],
   "source": [
    "# 실루엣 계수\n",
    "import numpy as np\n",
    "from sklearn.cluster import KMeans\n",
    "from sklearn import metrics\n",
    "from sklearn.datasets import load_iris\n",
    "\n",
    "X, y = load_iris(return_X_y=True)\n",
    "\n",
    "kmeans_model = KMeans(n_clusters=3, random_state=1234).fit(X)\n",
    "labels = kmeans_model.labels_\n",
    "print(f'X의 군집화 결과의 실루엣 계수: {metrics.silhouette_score(X, labels): .4f}')"
   ]
  },
  {
   "cell_type": "markdown",
   "id": "9f7f1f48",
   "metadata": {},
   "source": [
    "### 해당 모델 관련 예시 코드"
   ]
  },
  {
   "cell_type": "code",
   "execution_count": 65,
   "id": "da896045",
   "metadata": {
    "ExecuteTime": {
     "end_time": "2023-12-21T04:43:53.022996Z",
     "start_time": "2023-12-21T04:43:53.007124Z"
    }
   },
   "outputs": [],
   "source": [
    "import numpy as np\n",
    "from sklearn.datasets import load_diabetes\n",
    "from sklearn.model_selection import train_test_split\n",
    "from sklearn.cluster import KMeans\n",
    "from sklearn.preprocessing import StandardScaler\n",
    "\n",
    "X, y = load_diabetes(return_X_y=True, as_frame=True)\n",
    "X_train, X_test, y_train, y_test = train_test_split(X, y,\n",
    "                                                   test_size=0.33,\n",
    "                                                   random_state=1234)"
   ]
  },
  {
   "cell_type": "code",
   "execution_count": 68,
   "id": "2fd74790",
   "metadata": {
    "ExecuteTime": {
     "end_time": "2023-12-21T04:45:23.202367Z",
     "start_time": "2023-12-21T04:45:23.190007Z"
    }
   },
   "outputs": [],
   "source": [
    "scaler = StandardScaler()\n",
    "X_train_scaled = scaler.fit_transform(X_train)\n",
    "X_test_scaled = scaler.fit_transform(X_test)"
   ]
  },
  {
   "cell_type": "code",
   "execution_count": 73,
   "id": "cce0fa2e",
   "metadata": {
    "ExecuteTime": {
     "end_time": "2023-12-21T04:50:18.928917Z",
     "start_time": "2023-12-21T04:50:18.860133Z"
    }
   },
   "outputs": [
    {
     "data": {
      "text/plain": [
       "labels\n",
       "6     95.272727\n",
       "5    121.045455\n",
       "1    139.343750\n",
       "0    156.357143\n",
       "2    160.722222\n",
       "4    186.947368\n",
       "3    247.842105\n",
       "Name: y, dtype: float64"
      ]
     },
     "execution_count": 73,
     "metadata": {},
     "output_type": "execute_result"
    }
   ],
   "source": [
    "kmeans = KMeans(n_clusters=7, max_iter=15, random_state=1234).fit(X_train_scaled)\n",
    "labels = kmeans.predict(X_test_scaled)\n",
    "\n",
    "X_test['labels'] = labels\n",
    "X_test['y'] = y_test\n",
    "\n",
    "X_test.groupby(by='labels').mean()['y'].sort_values()"
   ]
  }
 ],
 "metadata": {
  "hide_input": false,
  "kernelspec": {
   "display_name": "Python 3 (ipykernel)",
   "language": "python",
   "name": "python3"
  },
  "language_info": {
   "codemirror_mode": {
    "name": "ipython",
    "version": 3
   },
   "file_extension": ".py",
   "mimetype": "text/x-python",
   "name": "python",
   "nbconvert_exporter": "python",
   "pygments_lexer": "ipython3",
   "version": "3.10.12"
  },
  "toc": {
   "base_numbering": 1,
   "nav_menu": {},
   "number_sections": true,
   "sideBar": true,
   "skip_h1_title": false,
   "title_cell": "Table of Contents",
   "title_sidebar": "Contents",
   "toc_cell": false,
   "toc_position": {},
   "toc_section_display": true,
   "toc_window_display": false
  }
 },
 "nbformat": 4,
 "nbformat_minor": 5
}
