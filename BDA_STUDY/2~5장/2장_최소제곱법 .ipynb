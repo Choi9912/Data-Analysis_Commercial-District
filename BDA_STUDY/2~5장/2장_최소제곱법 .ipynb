{
 "cells": [
  {
   "cell_type": "code",
   "execution_count": 37,
   "id": "f318b340",
   "metadata": {
    "ExecuteTime": {
     "end_time": "2023-12-07T08:46:38.645327Z",
     "start_time": "2023-12-07T08:46:38.629352Z"
    }
   },
   "outputs": [],
   "source": [
    "import pandas as pd\n",
    "import numpy as np\n",
    "import seaborn as sns\n",
    "from sklearn import datasets\n",
    "from sklearn.model_selection import train_test_split\n",
    "from sklearn.linear_model import LinearRegression\n",
    "from sklearn.metrics import mean_absolute_error, mean_squared_error, r2_score\n",
    "\n",
    "boston = pd.read_csv('data/boston.csv')\n",
    "X = boston.drop('MEDV', axis=1)\n",
    "y = boston[['MEDV']]\n",
    "\n",
    "X_train, X_test, y_train, y_test = train_test_split(X, y,\n",
    "                                                   test_size=0.2,\n",
    "                                                   random_state=1234)"
   ]
  },
  {
   "cell_type": "code",
   "execution_count": 38,
   "id": "ee3d3e09",
   "metadata": {
    "ExecuteTime": {
     "end_time": "2023-12-07T08:46:38.793883Z",
     "start_time": "2023-12-07T08:46:38.775566Z"
    }
   },
   "outputs": [
    {
     "data": {
      "text/html": [
       "<div>\n",
       "<style scoped>\n",
       "    .dataframe tbody tr th:only-of-type {\n",
       "        vertical-align: middle;\n",
       "    }\n",
       "\n",
       "    .dataframe tbody tr th {\n",
       "        vertical-align: top;\n",
       "    }\n",
       "\n",
       "    .dataframe thead th {\n",
       "        text-align: right;\n",
       "    }\n",
       "</style>\n",
       "<table border=\"1\" class=\"dataframe\">\n",
       "  <thead>\n",
       "    <tr style=\"text-align: right;\">\n",
       "      <th></th>\n",
       "      <th>CRIM</th>\n",
       "      <th>ZN</th>\n",
       "      <th>INDUS</th>\n",
       "      <th>CHAS</th>\n",
       "      <th>NOX</th>\n",
       "      <th>RM</th>\n",
       "      <th>AGE</th>\n",
       "      <th>DIS</th>\n",
       "      <th>RAD</th>\n",
       "      <th>TAX</th>\n",
       "      <th>PTRATIO</th>\n",
       "      <th>B</th>\n",
       "      <th>LSTAT</th>\n",
       "      <th>CAT. MEDV</th>\n",
       "    </tr>\n",
       "  </thead>\n",
       "  <tbody>\n",
       "    <tr>\n",
       "      <th>221</th>\n",
       "      <td>0.40771</td>\n",
       "      <td>0.0</td>\n",
       "      <td>6.20</td>\n",
       "      <td>1</td>\n",
       "      <td>0.507</td>\n",
       "      <td>6.164</td>\n",
       "      <td>91.3</td>\n",
       "      <td>3.0480</td>\n",
       "      <td>8</td>\n",
       "      <td>307</td>\n",
       "      <td>17.4</td>\n",
       "      <td>395.24</td>\n",
       "      <td>21.46</td>\n",
       "      <td>0</td>\n",
       "    </tr>\n",
       "    <tr>\n",
       "      <th>375</th>\n",
       "      <td>19.60910</td>\n",
       "      <td>0.0</td>\n",
       "      <td>18.10</td>\n",
       "      <td>0</td>\n",
       "      <td>0.671</td>\n",
       "      <td>7.313</td>\n",
       "      <td>97.9</td>\n",
       "      <td>1.3163</td>\n",
       "      <td>24</td>\n",
       "      <td>666</td>\n",
       "      <td>20.2</td>\n",
       "      <td>396.90</td>\n",
       "      <td>13.44</td>\n",
       "      <td>0</td>\n",
       "    </tr>\n",
       "    <tr>\n",
       "      <th>450</th>\n",
       "      <td>6.71772</td>\n",
       "      <td>0.0</td>\n",
       "      <td>18.10</td>\n",
       "      <td>0</td>\n",
       "      <td>0.713</td>\n",
       "      <td>6.749</td>\n",
       "      <td>92.6</td>\n",
       "      <td>2.3236</td>\n",
       "      <td>24</td>\n",
       "      <td>666</td>\n",
       "      <td>20.2</td>\n",
       "      <td>0.32</td>\n",
       "      <td>17.44</td>\n",
       "      <td>0</td>\n",
       "    </tr>\n",
       "    <tr>\n",
       "      <th>163</th>\n",
       "      <td>1.51902</td>\n",
       "      <td>0.0</td>\n",
       "      <td>19.58</td>\n",
       "      <td>1</td>\n",
       "      <td>0.605</td>\n",
       "      <td>8.375</td>\n",
       "      <td>93.9</td>\n",
       "      <td>2.1620</td>\n",
       "      <td>5</td>\n",
       "      <td>403</td>\n",
       "      <td>14.7</td>\n",
       "      <td>388.45</td>\n",
       "      <td>3.32</td>\n",
       "      <td>1</td>\n",
       "    </tr>\n",
       "    <tr>\n",
       "      <th>402</th>\n",
       "      <td>9.59571</td>\n",
       "      <td>0.0</td>\n",
       "      <td>18.10</td>\n",
       "      <td>0</td>\n",
       "      <td>0.693</td>\n",
       "      <td>6.404</td>\n",
       "      <td>100.0</td>\n",
       "      <td>1.6390</td>\n",
       "      <td>24</td>\n",
       "      <td>666</td>\n",
       "      <td>20.2</td>\n",
       "      <td>376.11</td>\n",
       "      <td>20.31</td>\n",
       "      <td>0</td>\n",
       "    </tr>\n",
       "  </tbody>\n",
       "</table>\n",
       "</div>"
      ],
      "text/plain": [
       "         CRIM   ZN  INDUS  CHAS    NOX     RM    AGE     DIS  RAD  TAX  \\\n",
       "221   0.40771  0.0   6.20     1  0.507  6.164   91.3  3.0480    8  307   \n",
       "375  19.60910  0.0  18.10     0  0.671  7.313   97.9  1.3163   24  666   \n",
       "450   6.71772  0.0  18.10     0  0.713  6.749   92.6  2.3236   24  666   \n",
       "163   1.51902  0.0  19.58     1  0.605  8.375   93.9  2.1620    5  403   \n",
       "402   9.59571  0.0  18.10     0  0.693  6.404  100.0  1.6390   24  666   \n",
       "\n",
       "     PTRATIO       B  LSTAT  CAT. MEDV  \n",
       "221     17.4  395.24  21.46          0  \n",
       "375     20.2  396.90  13.44          0  \n",
       "450     20.2    0.32  17.44          0  \n",
       "163     14.7  388.45   3.32          1  \n",
       "402     20.2  376.11  20.31          0  "
      ]
     },
     "execution_count": 38,
     "metadata": {},
     "output_type": "execute_result"
    }
   ],
   "source": [
    "# EDA\n",
    "X_train.head()"
   ]
  },
  {
   "cell_type": "markdown",
   "id": "3ae2db0d",
   "metadata": {},
   "source": [
    "<img src=\"https://wikidocs.net/images/page/49966/1.png\">\n",
    "- 이미지 출처: http://dator.co.kr/?vid=ctg258&mid=textyle&document_srl=1721307"
   ]
  },
  {
   "cell_type": "code",
   "execution_count": 39,
   "id": "62466b63",
   "metadata": {
    "ExecuteTime": {
     "end_time": "2023-12-07T08:46:38.960057Z",
     "start_time": "2023-12-07T08:46:38.949385Z"
    }
   },
   "outputs": [
    {
     "data": {
      "text/html": [
       "<div>\n",
       "<style scoped>\n",
       "    .dataframe tbody tr th:only-of-type {\n",
       "        vertical-align: middle;\n",
       "    }\n",
       "\n",
       "    .dataframe tbody tr th {\n",
       "        vertical-align: top;\n",
       "    }\n",
       "\n",
       "    .dataframe thead th {\n",
       "        text-align: right;\n",
       "    }\n",
       "</style>\n",
       "<table border=\"1\" class=\"dataframe\">\n",
       "  <thead>\n",
       "    <tr style=\"text-align: right;\">\n",
       "      <th></th>\n",
       "      <th>MEDV</th>\n",
       "    </tr>\n",
       "  </thead>\n",
       "  <tbody>\n",
       "    <tr>\n",
       "      <th>221</th>\n",
       "      <td>21.7</td>\n",
       "    </tr>\n",
       "    <tr>\n",
       "      <th>375</th>\n",
       "      <td>15.0</td>\n",
       "    </tr>\n",
       "    <tr>\n",
       "      <th>450</th>\n",
       "      <td>13.4</td>\n",
       "    </tr>\n",
       "    <tr>\n",
       "      <th>163</th>\n",
       "      <td>50.0</td>\n",
       "    </tr>\n",
       "    <tr>\n",
       "      <th>402</th>\n",
       "      <td>12.1</td>\n",
       "    </tr>\n",
       "  </tbody>\n",
       "</table>\n",
       "</div>"
      ],
      "text/plain": [
       "     MEDV\n",
       "221  21.7\n",
       "375  15.0\n",
       "450  13.4\n",
       "163  50.0\n",
       "402  12.1"
      ]
     },
     "execution_count": 39,
     "metadata": {},
     "output_type": "execute_result"
    }
   ],
   "source": [
    "y_train.head()"
   ]
  },
  {
   "cell_type": "code",
   "execution_count": 40,
   "id": "cbb63246",
   "metadata": {
    "ExecuteTime": {
     "end_time": "2023-12-07T08:46:40.445418Z",
     "start_time": "2023-12-07T08:46:40.427810Z"
    }
   },
   "outputs": [
    {
     "name": "stdout",
     "output_type": "stream",
     "text": [
      "<class 'pandas.core.frame.DataFrame'>\n",
      "Int64Index: 404 entries, 221 to 303\n",
      "Data columns (total 14 columns):\n",
      " #   Column     Non-Null Count  Dtype  \n",
      "---  ------     --------------  -----  \n",
      " 0   CRIM       404 non-null    float64\n",
      " 1   ZN         404 non-null    float64\n",
      " 2   INDUS      404 non-null    float64\n",
      " 3   CHAS       404 non-null    int64  \n",
      " 4   NOX        404 non-null    float64\n",
      " 5   RM         404 non-null    float64\n",
      " 6   AGE        404 non-null    float64\n",
      " 7   DIS        404 non-null    float64\n",
      " 8   RAD        404 non-null    int64  \n",
      " 9   TAX        404 non-null    int64  \n",
      " 10  PTRATIO    404 non-null    float64\n",
      " 11  B          404 non-null    float64\n",
      " 12  LSTAT      404 non-null    float64\n",
      " 13  CAT. MEDV  404 non-null    int64  \n",
      "dtypes: float64(10), int64(4)\n",
      "memory usage: 47.3 KB\n",
      "<class 'pandas.core.frame.DataFrame'>\n",
      "Int64Index: 404 entries, 221 to 303\n",
      "Data columns (total 1 columns):\n",
      " #   Column  Non-Null Count  Dtype  \n",
      "---  ------  --------------  -----  \n",
      " 0   MEDV    404 non-null    float64\n",
      "dtypes: float64(1)\n",
      "memory usage: 6.3 KB\n"
     ]
    }
   ],
   "source": [
    "X_train.info()\n",
    "y_train.info()"
   ]
  },
  {
   "cell_type": "code",
   "execution_count": 41,
   "id": "b31d5d6c",
   "metadata": {
    "ExecuteTime": {
     "end_time": "2023-12-07T08:46:45.950158Z",
     "start_time": "2023-12-07T08:46:45.911321Z"
    }
   },
   "outputs": [
    {
     "data": {
      "text/html": [
       "<div>\n",
       "<style scoped>\n",
       "    .dataframe tbody tr th:only-of-type {\n",
       "        vertical-align: middle;\n",
       "    }\n",
       "\n",
       "    .dataframe tbody tr th {\n",
       "        vertical-align: top;\n",
       "    }\n",
       "\n",
       "    .dataframe thead th {\n",
       "        text-align: right;\n",
       "    }\n",
       "</style>\n",
       "<table border=\"1\" class=\"dataframe\">\n",
       "  <thead>\n",
       "    <tr style=\"text-align: right;\">\n",
       "      <th></th>\n",
       "      <th>CRIM</th>\n",
       "      <th>ZN</th>\n",
       "      <th>INDUS</th>\n",
       "      <th>CHAS</th>\n",
       "      <th>NOX</th>\n",
       "      <th>RM</th>\n",
       "      <th>AGE</th>\n",
       "      <th>DIS</th>\n",
       "      <th>RAD</th>\n",
       "      <th>TAX</th>\n",
       "      <th>PTRATIO</th>\n",
       "      <th>B</th>\n",
       "      <th>LSTAT</th>\n",
       "      <th>CAT. MEDV</th>\n",
       "    </tr>\n",
       "  </thead>\n",
       "  <tbody>\n",
       "    <tr>\n",
       "      <th>count</th>\n",
       "      <td>404.000000</td>\n",
       "      <td>404.000000</td>\n",
       "      <td>404.000000</td>\n",
       "      <td>404.000000</td>\n",
       "      <td>404.000000</td>\n",
       "      <td>404.000000</td>\n",
       "      <td>404.000000</td>\n",
       "      <td>404.000000</td>\n",
       "      <td>404.000000</td>\n",
       "      <td>404.000000</td>\n",
       "      <td>404.000000</td>\n",
       "      <td>404.000000</td>\n",
       "      <td>404.000000</td>\n",
       "      <td>404.000000</td>\n",
       "    </tr>\n",
       "    <tr>\n",
       "      <th>mean</th>\n",
       "      <td>3.423852</td>\n",
       "      <td>10.818069</td>\n",
       "      <td>11.168911</td>\n",
       "      <td>0.071782</td>\n",
       "      <td>0.556195</td>\n",
       "      <td>6.278074</td>\n",
       "      <td>68.979455</td>\n",
       "      <td>3.724405</td>\n",
       "      <td>9.551980</td>\n",
       "      <td>407.712871</td>\n",
       "      <td>18.458911</td>\n",
       "      <td>353.866139</td>\n",
       "      <td>12.768267</td>\n",
       "      <td>0.155941</td>\n",
       "    </tr>\n",
       "    <tr>\n",
       "      <th>std</th>\n",
       "      <td>8.197229</td>\n",
       "      <td>23.061649</td>\n",
       "      <td>6.798110</td>\n",
       "      <td>0.258447</td>\n",
       "      <td>0.116187</td>\n",
       "      <td>0.691061</td>\n",
       "      <td>27.692028</td>\n",
       "      <td>1.983793</td>\n",
       "      <td>8.741662</td>\n",
       "      <td>169.344926</td>\n",
       "      <td>2.152993</td>\n",
       "      <td>95.592190</td>\n",
       "      <td>7.170852</td>\n",
       "      <td>0.363249</td>\n",
       "    </tr>\n",
       "    <tr>\n",
       "      <th>min</th>\n",
       "      <td>0.006320</td>\n",
       "      <td>0.000000</td>\n",
       "      <td>0.460000</td>\n",
       "      <td>0.000000</td>\n",
       "      <td>0.385000</td>\n",
       "      <td>3.561000</td>\n",
       "      <td>2.900000</td>\n",
       "      <td>1.129600</td>\n",
       "      <td>1.000000</td>\n",
       "      <td>188.000000</td>\n",
       "      <td>12.600000</td>\n",
       "      <td>0.320000</td>\n",
       "      <td>1.730000</td>\n",
       "      <td>0.000000</td>\n",
       "    </tr>\n",
       "    <tr>\n",
       "      <th>25%</th>\n",
       "      <td>0.082598</td>\n",
       "      <td>0.000000</td>\n",
       "      <td>5.190000</td>\n",
       "      <td>0.000000</td>\n",
       "      <td>0.453000</td>\n",
       "      <td>5.888000</td>\n",
       "      <td>45.800000</td>\n",
       "      <td>2.110500</td>\n",
       "      <td>4.000000</td>\n",
       "      <td>278.500000</td>\n",
       "      <td>17.400000</td>\n",
       "      <td>374.527500</td>\n",
       "      <td>7.135000</td>\n",
       "      <td>0.000000</td>\n",
       "    </tr>\n",
       "    <tr>\n",
       "      <th>50%</th>\n",
       "      <td>0.260420</td>\n",
       "      <td>0.000000</td>\n",
       "      <td>9.690000</td>\n",
       "      <td>0.000000</td>\n",
       "      <td>0.538000</td>\n",
       "      <td>6.198500</td>\n",
       "      <td>77.150000</td>\n",
       "      <td>3.207450</td>\n",
       "      <td>5.000000</td>\n",
       "      <td>330.000000</td>\n",
       "      <td>19.000000</td>\n",
       "      <td>391.880000</td>\n",
       "      <td>11.675000</td>\n",
       "      <td>0.000000</td>\n",
       "    </tr>\n",
       "    <tr>\n",
       "      <th>75%</th>\n",
       "      <td>3.694070</td>\n",
       "      <td>3.125000</td>\n",
       "      <td>18.100000</td>\n",
       "      <td>0.000000</td>\n",
       "      <td>0.624000</td>\n",
       "      <td>6.616500</td>\n",
       "      <td>93.900000</td>\n",
       "      <td>5.104475</td>\n",
       "      <td>24.000000</td>\n",
       "      <td>666.000000</td>\n",
       "      <td>20.200000</td>\n",
       "      <td>396.285000</td>\n",
       "      <td>16.605000</td>\n",
       "      <td>0.000000</td>\n",
       "    </tr>\n",
       "    <tr>\n",
       "      <th>max</th>\n",
       "      <td>88.976200</td>\n",
       "      <td>95.000000</td>\n",
       "      <td>27.740000</td>\n",
       "      <td>1.000000</td>\n",
       "      <td>0.871000</td>\n",
       "      <td>8.780000</td>\n",
       "      <td>100.000000</td>\n",
       "      <td>10.585700</td>\n",
       "      <td>24.000000</td>\n",
       "      <td>711.000000</td>\n",
       "      <td>22.000000</td>\n",
       "      <td>396.900000</td>\n",
       "      <td>37.970000</td>\n",
       "      <td>1.000000</td>\n",
       "    </tr>\n",
       "  </tbody>\n",
       "</table>\n",
       "</div>"
      ],
      "text/plain": [
       "             CRIM          ZN       INDUS        CHAS         NOX          RM  \\\n",
       "count  404.000000  404.000000  404.000000  404.000000  404.000000  404.000000   \n",
       "mean     3.423852   10.818069   11.168911    0.071782    0.556195    6.278074   \n",
       "std      8.197229   23.061649    6.798110    0.258447    0.116187    0.691061   \n",
       "min      0.006320    0.000000    0.460000    0.000000    0.385000    3.561000   \n",
       "25%      0.082598    0.000000    5.190000    0.000000    0.453000    5.888000   \n",
       "50%      0.260420    0.000000    9.690000    0.000000    0.538000    6.198500   \n",
       "75%      3.694070    3.125000   18.100000    0.000000    0.624000    6.616500   \n",
       "max     88.976200   95.000000   27.740000    1.000000    0.871000    8.780000   \n",
       "\n",
       "              AGE         DIS         RAD         TAX     PTRATIO           B  \\\n",
       "count  404.000000  404.000000  404.000000  404.000000  404.000000  404.000000   \n",
       "mean    68.979455    3.724405    9.551980  407.712871   18.458911  353.866139   \n",
       "std     27.692028    1.983793    8.741662  169.344926    2.152993   95.592190   \n",
       "min      2.900000    1.129600    1.000000  188.000000   12.600000    0.320000   \n",
       "25%     45.800000    2.110500    4.000000  278.500000   17.400000  374.527500   \n",
       "50%     77.150000    3.207450    5.000000  330.000000   19.000000  391.880000   \n",
       "75%     93.900000    5.104475   24.000000  666.000000   20.200000  396.285000   \n",
       "max    100.000000   10.585700   24.000000  711.000000   22.000000  396.900000   \n",
       "\n",
       "            LSTAT   CAT. MEDV  \n",
       "count  404.000000  404.000000  \n",
       "mean    12.768267    0.155941  \n",
       "std      7.170852    0.363249  \n",
       "min      1.730000    0.000000  \n",
       "25%      7.135000    0.000000  \n",
       "50%     11.675000    0.000000  \n",
       "75%     16.605000    0.000000  \n",
       "max     37.970000    1.000000  "
      ]
     },
     "execution_count": 41,
     "metadata": {},
     "output_type": "execute_result"
    }
   ],
   "source": [
    "X_train.describe()"
   ]
  },
  {
   "cell_type": "code",
   "execution_count": 42,
   "id": "e763c7a4",
   "metadata": {
    "ExecuteTime": {
     "end_time": "2023-12-07T08:46:53.709588Z",
     "start_time": "2023-12-07T08:46:53.670693Z"
    }
   },
   "outputs": [
    {
     "data": {
      "text/html": [
       "<div>\n",
       "<style scoped>\n",
       "    .dataframe tbody tr th:only-of-type {\n",
       "        vertical-align: middle;\n",
       "    }\n",
       "\n",
       "    .dataframe tbody tr th {\n",
       "        vertical-align: top;\n",
       "    }\n",
       "\n",
       "    .dataframe thead th {\n",
       "        text-align: right;\n",
       "    }\n",
       "</style>\n",
       "<table border=\"1\" class=\"dataframe\">\n",
       "  <thead>\n",
       "    <tr style=\"text-align: right;\">\n",
       "      <th></th>\n",
       "      <th>CRIM</th>\n",
       "      <th>ZN</th>\n",
       "      <th>INDUS</th>\n",
       "      <th>CHAS</th>\n",
       "      <th>NOX</th>\n",
       "      <th>RM</th>\n",
       "      <th>AGE</th>\n",
       "      <th>DIS</th>\n",
       "      <th>RAD</th>\n",
       "      <th>TAX</th>\n",
       "      <th>PTRATIO</th>\n",
       "      <th>B</th>\n",
       "      <th>LSTAT</th>\n",
       "      <th>CAT. MEDV</th>\n",
       "    </tr>\n",
       "  </thead>\n",
       "  <tbody>\n",
       "    <tr>\n",
       "      <th>count</th>\n",
       "      <td>102.000000</td>\n",
       "      <td>102.000000</td>\n",
       "      <td>102.000000</td>\n",
       "      <td>102.000000</td>\n",
       "      <td>102.000000</td>\n",
       "      <td>102.000000</td>\n",
       "      <td>102.000000</td>\n",
       "      <td>102.000000</td>\n",
       "      <td>102.000000</td>\n",
       "      <td>102.000000</td>\n",
       "      <td>102.000000</td>\n",
       "      <td>102.000000</td>\n",
       "      <td>102.000000</td>\n",
       "      <td>102.000000</td>\n",
       "    </tr>\n",
       "    <tr>\n",
       "      <th>mean</th>\n",
       "      <td>4.364772</td>\n",
       "      <td>13.524510</td>\n",
       "      <td>11.009510</td>\n",
       "      <td>0.058824</td>\n",
       "      <td>0.548755</td>\n",
       "      <td>6.310618</td>\n",
       "      <td>66.972549</td>\n",
       "      <td>4.074823</td>\n",
       "      <td>9.539216</td>\n",
       "      <td>410.313725</td>\n",
       "      <td>18.442157</td>\n",
       "      <td>367.795490</td>\n",
       "      <td>12.196765</td>\n",
       "      <td>0.205882</td>\n",
       "    </tr>\n",
       "    <tr>\n",
       "      <th>std</th>\n",
       "      <td>10.055150</td>\n",
       "      <td>24.324577</td>\n",
       "      <td>7.134571</td>\n",
       "      <td>0.236456</td>\n",
       "      <td>0.115022</td>\n",
       "      <td>0.749645</td>\n",
       "      <td>29.979046</td>\n",
       "      <td>2.523548</td>\n",
       "      <td>8.612300</td>\n",
       "      <td>166.106788</td>\n",
       "      <td>2.222408</td>\n",
       "      <td>71.107801</td>\n",
       "      <td>7.038117</td>\n",
       "      <td>0.406342</td>\n",
       "    </tr>\n",
       "    <tr>\n",
       "      <th>min</th>\n",
       "      <td>0.010960</td>\n",
       "      <td>0.000000</td>\n",
       "      <td>1.250000</td>\n",
       "      <td>0.000000</td>\n",
       "      <td>0.389000</td>\n",
       "      <td>4.138000</td>\n",
       "      <td>6.000000</td>\n",
       "      <td>1.178100</td>\n",
       "      <td>1.000000</td>\n",
       "      <td>187.000000</td>\n",
       "      <td>13.000000</td>\n",
       "      <td>3.650000</td>\n",
       "      <td>1.980000</td>\n",
       "      <td>0.000000</td>\n",
       "    </tr>\n",
       "    <tr>\n",
       "      <th>25%</th>\n",
       "      <td>0.079095</td>\n",
       "      <td>0.000000</td>\n",
       "      <td>4.210000</td>\n",
       "      <td>0.000000</td>\n",
       "      <td>0.438250</td>\n",
       "      <td>5.878250</td>\n",
       "      <td>40.650000</td>\n",
       "      <td>2.050300</td>\n",
       "      <td>4.000000</td>\n",
       "      <td>287.500000</td>\n",
       "      <td>17.000000</td>\n",
       "      <td>377.255000</td>\n",
       "      <td>6.802500</td>\n",
       "      <td>0.000000</td>\n",
       "    </tr>\n",
       "    <tr>\n",
       "      <th>50%</th>\n",
       "      <td>0.250895</td>\n",
       "      <td>0.000000</td>\n",
       "      <td>9.900000</td>\n",
       "      <td>0.000000</td>\n",
       "      <td>0.538000</td>\n",
       "      <td>6.235500</td>\n",
       "      <td>78.750000</td>\n",
       "      <td>3.199200</td>\n",
       "      <td>5.000000</td>\n",
       "      <td>335.000000</td>\n",
       "      <td>19.100000</td>\n",
       "      <td>389.780000</td>\n",
       "      <td>10.175000</td>\n",
       "      <td>0.000000</td>\n",
       "    </tr>\n",
       "    <tr>\n",
       "      <th>75%</th>\n",
       "      <td>3.438745</td>\n",
       "      <td>20.000000</td>\n",
       "      <td>18.100000</td>\n",
       "      <td>0.000000</td>\n",
       "      <td>0.624000</td>\n",
       "      <td>6.707000</td>\n",
       "      <td>94.550000</td>\n",
       "      <td>5.469050</td>\n",
       "      <td>20.000000</td>\n",
       "      <td>666.000000</td>\n",
       "      <td>20.200000</td>\n",
       "      <td>395.717500</td>\n",
       "      <td>17.835000</td>\n",
       "      <td>0.000000</td>\n",
       "    </tr>\n",
       "    <tr>\n",
       "      <th>max</th>\n",
       "      <td>67.920800</td>\n",
       "      <td>100.000000</td>\n",
       "      <td>27.740000</td>\n",
       "      <td>1.000000</td>\n",
       "      <td>0.871000</td>\n",
       "      <td>8.725000</td>\n",
       "      <td>100.000000</td>\n",
       "      <td>12.126500</td>\n",
       "      <td>24.000000</td>\n",
       "      <td>711.000000</td>\n",
       "      <td>22.000000</td>\n",
       "      <td>396.900000</td>\n",
       "      <td>31.990000</td>\n",
       "      <td>1.000000</td>\n",
       "    </tr>\n",
       "  </tbody>\n",
       "</table>\n",
       "</div>"
      ],
      "text/plain": [
       "             CRIM          ZN       INDUS        CHAS         NOX          RM  \\\n",
       "count  102.000000  102.000000  102.000000  102.000000  102.000000  102.000000   \n",
       "mean     4.364772   13.524510   11.009510    0.058824    0.548755    6.310618   \n",
       "std     10.055150   24.324577    7.134571    0.236456    0.115022    0.749645   \n",
       "min      0.010960    0.000000    1.250000    0.000000    0.389000    4.138000   \n",
       "25%      0.079095    0.000000    4.210000    0.000000    0.438250    5.878250   \n",
       "50%      0.250895    0.000000    9.900000    0.000000    0.538000    6.235500   \n",
       "75%      3.438745   20.000000   18.100000    0.000000    0.624000    6.707000   \n",
       "max     67.920800  100.000000   27.740000    1.000000    0.871000    8.725000   \n",
       "\n",
       "              AGE         DIS         RAD         TAX     PTRATIO           B  \\\n",
       "count  102.000000  102.000000  102.000000  102.000000  102.000000  102.000000   \n",
       "mean    66.972549    4.074823    9.539216  410.313725   18.442157  367.795490   \n",
       "std     29.979046    2.523548    8.612300  166.106788    2.222408   71.107801   \n",
       "min      6.000000    1.178100    1.000000  187.000000   13.000000    3.650000   \n",
       "25%     40.650000    2.050300    4.000000  287.500000   17.000000  377.255000   \n",
       "50%     78.750000    3.199200    5.000000  335.000000   19.100000  389.780000   \n",
       "75%     94.550000    5.469050   20.000000  666.000000   20.200000  395.717500   \n",
       "max    100.000000   12.126500   24.000000  711.000000   22.000000  396.900000   \n",
       "\n",
       "            LSTAT   CAT. MEDV  \n",
       "count  102.000000  102.000000  \n",
       "mean    12.196765    0.205882  \n",
       "std      7.038117    0.406342  \n",
       "min      1.980000    0.000000  \n",
       "25%      6.802500    0.000000  \n",
       "50%     10.175000    0.000000  \n",
       "75%     17.835000    0.000000  \n",
       "max     31.990000    1.000000  "
      ]
     },
     "execution_count": 42,
     "metadata": {},
     "output_type": "execute_result"
    }
   ],
   "source": [
    "X_test.describe()"
   ]
  },
  {
   "cell_type": "code",
   "execution_count": 45,
   "id": "33af2f5d",
   "metadata": {
    "ExecuteTime": {
     "end_time": "2023-12-07T08:47:19.915949Z",
     "start_time": "2023-12-07T08:47:19.701224Z"
    }
   },
   "outputs": [
    {
     "data": {
      "text/plain": [
       "<Axes: >"
      ]
     },
     "execution_count": 45,
     "metadata": {},
     "output_type": "execute_result"
    },
    {
     "data": {
      "image/png": "[encoded data removed]",
      "text/plain": [
       "<Figure size 1500x1000 with 1 Axes>"
      ]
     },
     "metadata": {},
     "output_type": "display_data"
    }
   ],
   "source": [
    "plt.figure(figsize=(15,10))\n",
    "sns.boxplot(X_train)"
   ]
  },
  {
   "cell_type": "code",
   "execution_count": 46,
   "id": "30e333f7",
   "metadata": {
    "ExecuteTime": {
     "end_time": "2023-12-07T08:47:30.885825Z",
     "start_time": "2023-12-07T08:47:30.623411Z"
    }
   },
   "outputs": [
    {
     "data": {
      "text/plain": [
       "<Axes: >"
      ]
     },
     "execution_count": 46,
     "metadata": {},
     "output_type": "execute_result"
    },
    {
     "data": {
      "image/png": "[encoded data removed]",
      "text/plain": [
       "<Figure size 1500x700 with 1 Axes>"
      ]
     },
     "metadata": {},
     "output_type": "display_data"
    }
   ],
   "source": [
    "plt.figure(figsize=(15,7))\n",
    "sns.boxplot(X_test)"
   ]
  },
  {
   "cell_type": "code",
   "execution_count": 50,
   "id": "0516f6ca",
   "metadata": {
    "ExecuteTime": {
     "end_time": "2023-12-07T08:50:04.323468Z",
     "start_time": "2023-12-07T08:50:04.312491Z"
    }
   },
   "outputs": [
    {
     "data": {
      "text/plain": [
       "CRIM         0\n",
       "ZN           0\n",
       "INDUS        0\n",
       "CHAS         0\n",
       "NOX          0\n",
       "RM           0\n",
       "AGE          0\n",
       "DIS          0\n",
       "RAD          0\n",
       "TAX          0\n",
       "PTRATIO      0\n",
       "B            0\n",
       "LSTAT        0\n",
       "CAT. MEDV    0\n",
       "dtype: int64"
      ]
     },
     "execution_count": 50,
     "metadata": {},
     "output_type": "execute_result"
    }
   ],
   "source": [
    "# 데이터 전처리\n",
    "X_train.isnull().sum()"
   ]
  },
  {
   "cell_type": "code",
   "execution_count": 51,
   "id": "b44f69b4",
   "metadata": {
    "ExecuteTime": {
     "end_time": "2023-12-07T08:50:06.811137Z",
     "start_time": "2023-12-07T08:50:06.802372Z"
    }
   },
   "outputs": [
    {
     "data": {
      "text/plain": [
       "CRIM         0\n",
       "ZN           0\n",
       "INDUS        0\n",
       "CHAS         0\n",
       "NOX          0\n",
       "RM           0\n",
       "AGE          0\n",
       "DIS          0\n",
       "RAD          0\n",
       "TAX          0\n",
       "PTRATIO      0\n",
       "B            0\n",
       "LSTAT        0\n",
       "CAT. MEDV    0\n",
       "dtype: int64"
      ]
     },
     "execution_count": 51,
     "metadata": {},
     "output_type": "execute_result"
    }
   ],
   "source": [
    "X_test.isnull().sum()"
   ]
  },
  {
   "cell_type": "code",
   "execution_count": 55,
   "id": "bd96b071",
   "metadata": {
    "ExecuteTime": {
     "end_time": "2023-12-07T08:56:10.588950Z",
     "start_time": "2023-12-07T08:56:10.566011Z"
    }
   },
   "outputs": [],
   "source": [
    "outlier_features = ['CRIM', 'ZN', 'B']\n",
    "\n",
    "for feature in outlier_features:\n",
    "    Q1 = X_train[feature].quantile(.25)\n",
    "    Q3 = X_train[feature].quantile(.75)\n",
    "    \n",
    "    IQR = Q3 - Q1\n",
    "    \n",
    "    upper = (Q3 + 1.5*IQR)\n",
    "    lower = (Q1 - 1.5*IQR)\n",
    "    \n",
    "    cond1 = (X_train[feature] > upper)\n",
    "    cond2 = (X_train[feature] < lower)\n",
    "    \n",
    "    M = X_train[~(cond1)][feature].max()\n",
    "    m = X_train[~(cond2)][feature].min()\n",
    "    \n",
    "    X_train[feature] = np.where(cond1, M, X_train[feature])\n",
    "    X_test[feature] = np.where((X_test[feature] > upper), M, X_test[feature])\n",
    "    X_train[feature] = np.where(cond2, m, X_train[feature])\n",
    "    X_test[feature] = np.where((X_test[feature] < lower), m, X_test[feature])"
   ]
  },
  {
   "cell_type": "code",
   "execution_count": 56,
   "id": "5da860dd",
   "metadata": {
    "ExecuteTime": {
     "end_time": "2023-12-07T08:56:21.812648Z",
     "start_time": "2023-12-07T08:56:21.806197Z"
    }
   },
   "outputs": [
    {
     "data": {
      "text/plain": [
       "((404, 14), (102, 14))"
      ]
     },
     "execution_count": 56,
     "metadata": {},
     "output_type": "execute_result"
    }
   ],
   "source": [
    "X_train.shape, X_test.shape"
   ]
  },
  {
   "cell_type": "code",
   "execution_count": 57,
   "id": "7d0851ff",
   "metadata": {
    "ExecuteTime": {
     "end_time": "2023-12-07T08:56:34.850075Z",
     "start_time": "2023-12-07T08:56:34.840060Z"
    }
   },
   "outputs": [
    {
     "data": {
      "text/plain": [
       "((323, 14), (81, 14), (323, 1), (81, 1))"
      ]
     },
     "execution_count": 57,
     "metadata": {},
     "output_type": "execute_result"
    }
   ],
   "source": [
    "# 분리 데이터 평가\n",
    "\n",
    "X_tr, X_val, y_tr, y_val = train_test_split(X_train, y_train,\n",
    "                                           test_size=0.2,\n",
    "                                           random_state=1234)\n",
    "X_tr.shape, X_val.shape, y_tr.shape, y_val.shape"
   ]
  },
  {
   "cell_type": "code",
   "execution_count": 58,
   "id": "f7611b87",
   "metadata": {
    "ExecuteTime": {
     "end_time": "2023-12-07T08:56:37.109879Z",
     "start_time": "2023-12-07T08:56:37.087199Z"
    }
   },
   "outputs": [
    {
     "name": "stdout",
     "output_type": "stream",
     "text": [
      "평가 MAE : 2.791\n",
      "평가 MSE : 13.704\n",
      "평가 r2_score : 0.816\n"
     ]
    }
   ],
   "source": [
    "reg = LinearRegression()\n",
    "reg = reg.fit(X_tr, y_tr)\n",
    "y_pred_val = reg.predict(X_val)\n",
    "\n",
    "MAE = mean_absolute_error(y_val, y_pred_val)\n",
    "MSE = mean_squared_error(y_val, y_pred_val)\n",
    "r2 = r2_score(y_val, y_pred_val)\n",
    "\n",
    "print(f\"평가 MAE : {MAE :.3f}\")\n",
    "print(f\"평가 MSE : {MSE :.3f}\")\n",
    "print(f\"평가 r2_score : {r2 :.3f}\")"
   ]
  },
  {
   "cell_type": "code",
   "execution_count": 59,
   "id": "8cbce290",
   "metadata": {
    "ExecuteTime": {
     "end_time": "2023-12-07T08:56:38.289932Z",
     "start_time": "2023-12-07T08:56:38.277112Z"
    }
   },
   "outputs": [
    {
     "name": "stdout",
     "output_type": "stream",
     "text": [
      "최종 MAE : 2.839\n",
      "최종 MSE : 15.114\n",
      "최종 r2_score : 0.853\n"
     ]
    }
   ],
   "source": [
    "y_pred = reg.predict(X_test)\n",
    "\n",
    "MAE = mean_absolute_error(y_test, y_pred)\n",
    "MSE = mean_squared_error(y_test, y_pred)\n",
    "r2 = r2_score(y_test, y_pred)\n",
    "\n",
    "print(f\"최종 MAE : {MAE :.3f}\")\n",
    "print(f\"최종 MSE : {MSE :.3f}\")\n",
    "print(f\"최종 r2_score : {r2 :.3f}\")"
   ]
  },
  {
   "cell_type": "code",
   "execution_count": 60,
   "id": "36bb7690",
   "metadata": {
    "ExecuteTime": {
     "end_time": "2023-12-07T08:56:39.233090Z",
     "start_time": "2023-12-07T08:56:39.216633Z"
    }
   },
   "outputs": [
    {
     "name": "stdout",
     "output_type": "stream",
     "text": [
      "최종 MAE : 2.839\n",
      "최종 MSE : 15.114\n",
      "최종 r2_score : 0.853\n"
     ]
    }
   ],
   "source": [
    "reg_positive = LinearRegression(positive=True)\n",
    "reg_positive = reg.fit(X_tr, y_tr)\n",
    "pred_positive = reg.predict(X_test)\n",
    "\n",
    "MAE = mean_absolute_error(y_test, pred_positive)\n",
    "MSE = mean_squared_error(y_test, pred_positive)\n",
    "r2 = r2_score(y_test, pred_positive)\n",
    "\n",
    "print(f\"최종 MAE : {MAE :.3f}\")\n",
    "print(f\"최종 MSE : {MSE :.3f}\")\n",
    "print(f\"최종 r2_score : {r2 :.3f}\")"
   ]
  },
  {
   "cell_type": "markdown",
   "id": "7f8808f0",
   "metadata": {},
   "source": [
    "### 적고싶은 내용 \n",
    "- numpy와 연관된 선형대수 언어를 알아야 할 듯 싶다."
   ]
  }
 ],
 "metadata": {
  "hide_input": false,
  "kernelspec": {
   "display_name": "Python 3 (ipykernel)",
   "language": "python",
   "name": "python3"
  },
  "language_info": {
   "codemirror_mode": {
    "name": "ipython",
    "version": 3
   },
   "file_extension": ".py",
   "mimetype": "text/x-python",
   "name": "python",
   "nbconvert_exporter": "python",
   "pygments_lexer": "ipython3",
   "version": "3.9.7"
  },
  "toc": {
   "base_numbering": 1,
   "nav_menu": {},
   "number_sections": true,
   "sideBar": true,
   "skip_h1_title": false,
   "title_cell": "Table of Contents",
   "title_sidebar": "Contents",
   "toc_cell": false,
   "toc_position": {},
   "toc_section_display": true,
   "toc_window_display": false
  }
 },
 "nbformat": 4,
 "nbformat_minor": 5
}
