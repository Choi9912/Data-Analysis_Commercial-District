{
 "cells": [
  {
   "cell_type": "markdown",
   "id": "e081d961",
   "metadata": {},
   "source": [
    "## 3. 코드 예시 1\n",
    "- 정규방정식을 활용한 릿지 회귀모델 구현\n",
    "    - sklearn.linear_model.Ridge 클래스에서 'cholesky' solver 접근법에 해당."
   ]
  },
  {
   "cell_type": "code",
   "execution_count": 1,
   "id": "0e584d89",
   "metadata": {},
   "outputs": [],
   "source": [
    "import pandas as pd\n",
    "import numpy as np\n",
    "import matplotlib.pyplot as plt\n",
    "%matplotlib inline\n",
    "import seaborn as sns"
   ]
  },
  {
   "cell_type": "code",
   "execution_count": 2,
   "id": "f08dafb0",
   "metadata": {},
   "outputs": [
    {
     "name": "stderr",
     "output_type": "stream",
     "text": [
      "C:\\ProgramData\\Anaconda3\\lib\\site-packages\\sklearn\\utils\\deprecation.py:87: FutureWarning: Function load_boston is deprecated; `load_boston` is deprecated in 1.0 and will be removed in 1.2.\n",
      "\n",
      "    The Boston housing prices dataset has an ethical problem. You can refer to\n",
      "    the documentation of this function for further details.\n",
      "\n",
      "    The scikit-learn maintainers therefore strongly discourage the use of this\n",
      "    dataset unless the purpose of the code is to study and educate about\n",
      "    ethical issues in data science and machine learning.\n",
      "\n",
      "    In this special case, you can fetch the dataset from the original\n",
      "    source::\n",
      "\n",
      "        import pandas as pd\n",
      "        import numpy as np\n",
      "\n",
      "        data_url = \"http://lib.stat.cmu.edu/datasets/boston\"\n",
      "        raw_df = pd.read_csv(data_url, sep=\"\\s+\", skiprows=22, header=None)\n",
      "        data = np.hstack([raw_df.values[::2, :], raw_df.values[1::2, :2]])\n",
      "        target = raw_df.values[1::2, 2]\n",
      "\n",
      "    Alternative datasets include the California housing dataset (i.e.\n",
      "    :func:`~sklearn.datasets.fetch_california_housing`) and the Ames housing\n",
      "    dataset. You can load the datasets as follows::\n",
      "\n",
      "        from sklearn.datasets import fetch_california_housing\n",
      "        housing = fetch_california_housing()\n",
      "\n",
      "    for the California housing dataset and::\n",
      "\n",
      "        from sklearn.datasets import fetch_openml\n",
      "        housing = fetch_openml(name=\"house_prices\", as_frame=True)\n",
      "\n",
      "    for the Ames housing dataset.\n",
      "  warnings.warn(msg, category=FutureWarning)\n"
     ]
    }
   ],
   "source": [
    "# 5.1 릿지 회귀모델 구현(정규방정식 풀이 방식, 촐레스키 접근법)\n",
    "\n",
    "# boston 데이터셋 로드\n",
    "from sklearn.datasets import load_boston\n",
    "from sklearn.model_selection import train_test_split\n",
    "boston = load_boston()\n",
    "X, y = boston.data, boston.target\n",
    "\n",
    "# X는 정규화 진행\n",
    "from sklearn.preprocessing import MinMaxScaler\n",
    "scaler = MinMaxScaler()\n",
    "X = scaler.fit_transform(X)\n",
    "\n",
    "# 데이터 분리\n",
    "X_train, X_test, y_train, y_test = train_test_split(X, y, test_size = 0.33, random_state = 1234)\n",
    "\n",
    "# 정규 방정식 풀이\n",
    "y_train = y_train.reshape(-1, 1) \n",
    "y_test = y_test.reshape(-1,1)\n",
    "\n",
    "n_train, n_test = X_train.shape[0], X_test.shape[0] # 각각 339, 167개\n",
    "\n",
    "X_train = np.append(np.ones((n_train, 1)), X_train, axis = 1)\n",
    "X_test = np.append(np.ones((n_test, 1)), X_test, axis = 1)"
   ]
  },
  {
   "cell_type": "code",
   "execution_count": 3,
   "id": "411ed337",
   "metadata": {},
   "outputs": [
    {
     "name": "stdout",
     "output_type": "stream",
     "text": [
      "alpha 값이 0일 때 :\n",
      "학습 데이터셋 MAE :  3.328\n",
      "테스트 데이터셋 MAE :  3.655\n",
      "\n",
      "alpha 값이 0.1일 때 :\n",
      "학습 데이터셋 MAE :  3.299\n",
      "테스트 데이터셋 MAE :  3.580\n",
      "\n",
      "alpha 값이 1일 때 :\n",
      "학습 데이터셋 MAE :  3.250\n",
      "테스트 데이터셋 MAE :  3.357\n",
      "\n"
     ]
    }
   ],
   "source": [
    "# alpha 값 조정에 따른 효과\n",
    "alphas = [0, 0.1, 1] # 알파값\n",
    "\n",
    "for alpha in alphas :\n",
    "    w = np.linalg.inv(X_train.T @ X_train + alpha *\n",
    "                     np.identity(X_train.shape[1])) @ X_train.T @ y_train\n",
    "    y_pred_train = X_train @ w\n",
    "    print(f'alpha 값이 {alpha}일 때 :')\n",
    "    print(f'학습 데이터셋 MAE : {np.abs(y_pred_train - y_train).mean() : .3f}')\n",
    "    y_pred = X_test @ w\n",
    "    print(f'테스트 데이터셋 MAE : {np.abs(y_pred - y_test).mean() : .3f}\\n')\n",
    "\n",
    "## 알파값 0일 때 OLS 추정값과 동일\n",
    "## 알파 증가 -> 추정값 bias 증가 -> MAE 증가"
   ]
  },
  {
   "cell_type": "code",
   "execution_count": null,
   "id": "070f1720",
   "metadata": {},
   "outputs": [],
   "source": []
  },
  {
   "cell_type": "markdown",
   "id": "0b1ef1d1",
   "metadata": {},
   "source": [
    "## 4. 코드 예시 2\n",
    "- 릿지 클래스를 사용할 경우"
   ]
  },
  {
   "cell_type": "code",
   "execution_count": 4,
   "id": "570e79a2",
   "metadata": {},
   "outputs": [
    {
     "name": "stderr",
     "output_type": "stream",
     "text": [
      "C:\\ProgramData\\Anaconda3\\lib\\site-packages\\sklearn\\utils\\deprecation.py:87: FutureWarning: Function load_boston is deprecated; `load_boston` is deprecated in 1.0 and will be removed in 1.2.\n",
      "\n",
      "    The Boston housing prices dataset has an ethical problem. You can refer to\n",
      "    the documentation of this function for further details.\n",
      "\n",
      "    The scikit-learn maintainers therefore strongly discourage the use of this\n",
      "    dataset unless the purpose of the code is to study and educate about\n",
      "    ethical issues in data science and machine learning.\n",
      "\n",
      "    In this special case, you can fetch the dataset from the original\n",
      "    source::\n",
      "\n",
      "        import pandas as pd\n",
      "        import numpy as np\n",
      "\n",
      "        data_url = \"http://lib.stat.cmu.edu/datasets/boston\"\n",
      "        raw_df = pd.read_csv(data_url, sep=\"\\s+\", skiprows=22, header=None)\n",
      "        data = np.hstack([raw_df.values[::2, :], raw_df.values[1::2, :2]])\n",
      "        target = raw_df.values[1::2, 2]\n",
      "\n",
      "    Alternative datasets include the California housing dataset (i.e.\n",
      "    :func:`~sklearn.datasets.fetch_california_housing`) and the Ames housing\n",
      "    dataset. You can load the datasets as follows::\n",
      "\n",
      "        from sklearn.datasets import fetch_california_housing\n",
      "        housing = fetch_california_housing()\n",
      "\n",
      "    for the California housing dataset and::\n",
      "\n",
      "        from sklearn.datasets import fetch_openml\n",
      "        housing = fetch_openml(name=\"house_prices\", as_frame=True)\n",
      "\n",
      "    for the Ames housing dataset.\n",
      "  warnings.warn(msg, category=FutureWarning)\n"
     ]
    }
   ],
   "source": [
    "# 5.2. 릿지 클래스 사용\n",
    "from sklearn.linear_model import Ridge\n",
    "from sklearn.datasets import load_boston\n",
    "from sklearn.model_selection import train_test_split\n",
    "\n",
    "boston = load_boston() # 사용할 데이터\n",
    "X, y = boston.data, boston.target\n",
    "\n",
    "# X는 정규화 진행\n",
    "from sklearn.preprocessing import MinMaxScaler\n",
    "scaler = MinMaxScaler()\n",
    "X = scaler.fit_transform(X)\n",
    "\n",
    "# 데이터 분리\n",
    "X_train, X_test, y_train, y_test = train_test_split(X, y, test_size = 0.33, random_state = 1234)"
   ]
  },
  {
   "cell_type": "code",
   "execution_count": 5,
   "id": "1e720c66",
   "metadata": {},
   "outputs": [
    {
     "name": "stdout",
     "output_type": "stream",
     "text": [
      "alpha 값이 0일 때 :\n",
      "학습 데이터셋 MAE :  3.328\n",
      "테스트 데이터셋 MAE :  3.655\n",
      "\n",
      "alpha 값이 0.1일 때 :\n",
      "학습 데이터셋 MAE :  3.312\n",
      "테스트 데이터셋 MAE :  3.625\n",
      "\n",
      "alpha 값이 1일 때 :\n",
      "학습 데이터셋 MAE :  3.259\n",
      "테스트 데이터셋 MAE :  3.486\n",
      "\n"
     ]
    }
   ],
   "source": [
    "# alpha 값 조정에 따른 효과\n",
    "alphas = [0, 0.1, 1] # 알파값\n",
    "\n",
    "for alpha in alphas :\n",
    "    reg = Ridge(alpha = alpha)\n",
    "    reg = reg.fit(X_train, y_train)\n",
    "\n",
    "    y_pred_train = reg.predict(X_train)\n",
    "    print(f'alpha 값이 {alpha}일 때 :')\n",
    "    print(f'학습 데이터셋 MAE : {np.abs(y_pred_train - y_train).mean() : .3f}')\n",
    "    y_pred = reg.predict(X_test)\n",
    "    print(f'테스트 데이터셋 MAE : {np.abs(y_pred - y_test).mean() : .3f}\\n')"
   ]
  },
  {
   "cell_type": "markdown",
   "id": "ef06470d",
   "metadata": {},
   "source": [
    "#### 알파값 0에서는 차이가 없으나, 규제가 붙으면 이전 값들과 차이 발생. why?\n",
    "- 둘 다 유클리디안 방식으로 정규화 함.\n",
    "- 그러나 둘의 정규화 처리 방법에 차이가 있음.\n",
    "    - 정규방정식 풀이 방식은 단순히 행렬 연산을 통해 해를 도출한 것.\n",
    "        - 이렇다 할 최적화 알고리즘은 딱히 없음.\n",
    "    - 반면, ridge 클래스는 내부적으로 최적화 알고리즘을 사용해 최적의 가중치를 찾은 것."
   ]
  }
 ],
 "metadata": {
  "kernelspec": {
   "display_name": "Python 3 (ipykernel)",
   "language": "python",
   "name": "python3"
  },
  "language_info": {
   "codemirror_mode": {
    "name": "ipython",
    "version": 3
   },
   "file_extension": ".py",
   "mimetype": "text/x-python",
   "name": "python",
   "nbconvert_exporter": "python",
   "pygments_lexer": "ipython3",
   "version": "3.9.7"
  }
 },
 "nbformat": 4,
 "nbformat_minor": 5
}
